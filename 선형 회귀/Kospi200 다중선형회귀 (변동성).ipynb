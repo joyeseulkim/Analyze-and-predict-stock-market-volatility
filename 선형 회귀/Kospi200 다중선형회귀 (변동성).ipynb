{
 "cells": [
  {
   "cell_type": "markdown",
   "id": "809ab95d",
   "metadata": {},
   "source": [
    "# 데이터 불러오기"
   ]
  },
  {
   "cell_type": "code",
   "execution_count": 1,
   "id": "06fb4dec",
   "metadata": {},
   "outputs": [],
   "source": [
    "import pandas as pd\n",
    "import matplotlib as mpl\n",
    "import matplotlib.pyplot as plt\n",
    "\n",
    "mpl.rc('font', family='Malgun Gothic')\n",
    "mpl.rcParams['axes.unicode_minus'] = False"
   ]
  },
  {
   "cell_type": "markdown",
   "id": "07c38022",
   "metadata": {},
   "source": [
    "## y: Kospi 200"
   ]
  },
  {
   "cell_type": "code",
   "execution_count": 2,
   "id": "512dd042",
   "metadata": {},
   "outputs": [],
   "source": [
    "kospi = pd.read_csv(\"C:/Users/82105/Desktop/hello/Data/Kospi/final.csv\")"
   ]
  },
  {
   "cell_type": "code",
   "execution_count": 3,
   "id": "10cb1720",
   "metadata": {},
   "outputs": [],
   "source": [
    "# Date를 datetime 형태로 변경\n",
    "kospi['Date'] = pd.to_datetime(kospi['Date'])"
   ]
  },
  {
   "cell_type": "code",
   "execution_count": 4,
   "id": "2bc6bb1b",
   "metadata": {},
   "outputs": [],
   "source": [
    "# Close값을 사용하여 변동성을 구하고, Fluctuation 컬럼으로 생성\n",
    "kospi['Fluctuation'] = kospi['Close'].pct_change()"
   ]
  },
  {
   "cell_type": "code",
   "execution_count": 5,
   "id": "3fdd57cc",
   "metadata": {},
   "outputs": [],
   "source": [
    "# 변동성 절댓값(abs()) 씌우기\n",
    "kospi['Fluctuation'] = (kospi['Fluctuation']).abs()"
   ]
  },
  {
   "cell_type": "code",
   "execution_count": 6,
   "id": "688b5b37",
   "metadata": {},
   "outputs": [],
   "source": [
    "y = kospi.set_index('Date')  # 월 평균을 구하기 위해 Date를 인텍스로 설정\n",
    "y = y['Fluctuation'].resample('1m').mean()  # 월 평균 변동성\n",
    "y = y * 100  # 숫자가 너무 작아서 100 곱해주기"
   ]
  },
  {
   "cell_type": "markdown",
   "id": "6782ebfa",
   "metadata": {},
   "source": [
    "## X1: 두바이유"
   ]
  },
  {
   "cell_type": "code",
   "execution_count": 7,
   "id": "82013732",
   "metadata": {},
   "outputs": [],
   "source": [
    "oil = pd.read_csv(\"C:/Users/82105/Desktop/hello/Data/Kospi/두바이유.csv\")"
   ]
  },
  {
   "cell_type": "code",
   "execution_count": 8,
   "id": "8fa827e8",
   "metadata": {},
   "outputs": [],
   "source": [
    "# 날짜를 datetime 형태로 변경\n",
    "oil['날짜'] = pd.to_datetime(oil['날짜'])"
   ]
  },
  {
   "cell_type": "code",
   "execution_count": 9,
   "id": "7877bba1",
   "metadata": {},
   "outputs": [],
   "source": [
    "# 날짜, 종가만 뽑아오기\n",
    "oil = oil[['날짜', '종가']]"
   ]
  },
  {
   "cell_type": "code",
   "execution_count": 10,
   "id": "52de0cfa",
   "metadata": {},
   "outputs": [],
   "source": [
    "# 날짜 기준으로 과거(2011->2022)부터 정렬\n",
    "oil = oil.sort_values(by = '날짜', ascending=True).reset_index(drop=True)"
   ]
  },
  {
   "cell_type": "code",
   "execution_count": 11,
   "id": "3aca8755",
   "metadata": {},
   "outputs": [],
   "source": [
    "X_oil = oil.set_index('날짜')\n",
    "X_oil = X_oil['종가'].resample('1m').mean()   # 월 평균 유가\n",
    "X_oil = X_oil.reset_index()"
   ]
  },
  {
   "cell_type": "code",
   "execution_count": 12,
   "id": "221c475c",
   "metadata": {},
   "outputs": [],
   "source": [
    "# 두바이유가로 컬럼명 변경\n",
    "X_oil = X_oil.rename(columns={'날짜':'Date', '종가':'두바이유가'})"
   ]
  },
  {
   "cell_type": "markdown",
   "id": "9397874b",
   "metadata": {},
   "source": [
    "## X2: 금 선물"
   ]
  },
  {
   "cell_type": "code",
   "execution_count": 13,
   "id": "231a60b9",
   "metadata": {},
   "outputs": [],
   "source": [
    "gold = pd.read_csv(\"C:/Users/82105/Desktop/hello/Data/금 선물.csv\")"
   ]
  },
  {
   "cell_type": "code",
   "execution_count": 14,
   "id": "82c94454",
   "metadata": {},
   "outputs": [],
   "source": [
    "# 종가의 천단위를 표시하는 , 삭제\n",
    "# float으로 변환 (문자형->숫자형)\n",
    "gold['종가'] = gold['종가'].str.replace(',', '').astype('float')"
   ]
  },
  {
   "cell_type": "code",
   "execution_count": 15,
   "id": "8366fe40",
   "metadata": {},
   "outputs": [],
   "source": [
    "gold['날짜'] = pd.to_datetime(gold['날짜'])"
   ]
  },
  {
   "cell_type": "code",
   "execution_count": 16,
   "id": "2286db6e",
   "metadata": {},
   "outputs": [],
   "source": [
    "gold = gold[['날짜', '종가']]"
   ]
  },
  {
   "cell_type": "code",
   "execution_count": 17,
   "id": "efffc12e",
   "metadata": {},
   "outputs": [],
   "source": [
    "gold = gold.sort_values(by = '날짜', ascending=True).reset_index(drop=True)"
   ]
  },
  {
   "cell_type": "code",
   "execution_count": 18,
   "id": "eb2b729e",
   "metadata": {},
   "outputs": [],
   "source": [
    "X_gold = gold.set_index('날짜')\n",
    "X_gold = X_gold['종가'].resample('1m').mean()   # 월 평균 유가\n",
    "X_gold = X_gold.reset_index()"
   ]
  },
  {
   "cell_type": "code",
   "execution_count": 19,
   "id": "49cad618",
   "metadata": {},
   "outputs": [],
   "source": [
    "X_gold = X_gold.rename(columns={'날짜':'Date', '종가':'금값'})"
   ]
  },
  {
   "cell_type": "markdown",
   "id": "8e7c7e56",
   "metadata": {},
   "source": [
    "## X3: 한국 GDP"
   ]
  },
  {
   "cell_type": "code",
   "execution_count": 20,
   "id": "764c2ff9",
   "metadata": {},
   "outputs": [],
   "source": [
    "gdp = pd.read_csv(\"C:/Users/82105/Desktop/hello/Data/Kospi/GDP_transform.csv\", encoding='cp949')"
   ]
  },
  {
   "cell_type": "code",
   "execution_count": 21,
   "id": "4ab9aef8",
   "metadata": {},
   "outputs": [],
   "source": [
    "X_gdp = gdp"
   ]
  },
  {
   "cell_type": "code",
   "execution_count": 22,
   "id": "df047b2a",
   "metadata": {},
   "outputs": [],
   "source": [
    "X_gdp['Date'] = pd.to_datetime(X_gdp['Date'])"
   ]
  },
  {
   "cell_type": "markdown",
   "id": "cbef53af",
   "metadata": {},
   "source": [
    "## X4: 한국 생산자물가지수"
   ]
  },
  {
   "cell_type": "code",
   "execution_count": 23,
   "id": "d6429a2c",
   "metadata": {},
   "outputs": [],
   "source": [
    "producer = pd.read_csv(\"C:/Users/82105/Desktop/hello/Data/Kospi/한국 생산자물가지수_날짜변경.csv\", encoding='cp949')"
   ]
  },
  {
   "cell_type": "code",
   "execution_count": 24,
   "id": "7e76764e",
   "metadata": {},
   "outputs": [],
   "source": [
    "producer['Date'] = pd.to_datetime(producer['Date'])"
   ]
  },
  {
   "cell_type": "code",
   "execution_count": 25,
   "id": "5d26aec6",
   "metadata": {},
   "outputs": [],
   "source": [
    "producer = producer.sort_values(by='Date', ascending=True).reset_index(drop=True)"
   ]
  },
  {
   "cell_type": "code",
   "execution_count": 26,
   "id": "22e5637c",
   "metadata": {},
   "outputs": [],
   "source": [
    "X_prod = producer.rename(columns={'실제':'생산자물가지수'})"
   ]
  },
  {
   "cell_type": "markdown",
   "id": "333b7394",
   "metadata": {},
   "source": [
    "## X5: 한국 소비자물가지수"
   ]
  },
  {
   "cell_type": "code",
   "execution_count": 27,
   "id": "f3e6ba4f",
   "metadata": {},
   "outputs": [],
   "source": [
    "consumer = pd.read_csv(\"C:/Users/82105/Desktop/hello/Data/Kospi/한국 소비자물가지수_날짜변경.csv\", encoding='cp949')"
   ]
  },
  {
   "cell_type": "code",
   "execution_count": 28,
   "id": "4b903f98",
   "metadata": {},
   "outputs": [],
   "source": [
    "consumer = consumer.rename(columns={'Consumer':'소비자물가지수'})"
   ]
  },
  {
   "cell_type": "code",
   "execution_count": 29,
   "id": "6b6c9ff0",
   "metadata": {},
   "outputs": [],
   "source": [
    "X_consumer = consumer\n",
    "X_consumer['Date'] = pd.to_datetime(X_consumer['Date'])"
   ]
  },
  {
   "cell_type": "markdown",
   "id": "e06a7d28",
   "metadata": {},
   "source": [
    "## X6: 한국 임금상승률"
   ]
  },
  {
   "cell_type": "code",
   "execution_count": 30,
   "id": "05d59f3c",
   "metadata": {},
   "outputs": [],
   "source": [
    "wage = pd.read_csv(\"C:/Users/82105/Desktop/hello/Data/Kospi/한국 임금상승률_수정.csv\")"
   ]
  },
  {
   "cell_type": "code",
   "execution_count": 31,
   "id": "6a13afb2",
   "metadata": {},
   "outputs": [],
   "source": [
    "X_wage = wage\n",
    "X_wage['Date'] = pd.to_datetime(X_wage['Date'])"
   ]
  },
  {
   "cell_type": "markdown",
   "id": "b09b7081",
   "metadata": {},
   "source": [
    "## X7: 한국 통화공급량"
   ]
  },
  {
   "cell_type": "code",
   "execution_count": 32,
   "id": "09e01570",
   "metadata": {},
   "outputs": [],
   "source": [
    "money = pd.read_csv(\"C:/Users/82105/Desktop/hello/Data/Kospi/한국 통화공급량_수정.csv\")"
   ]
  },
  {
   "cell_type": "code",
   "execution_count": 33,
   "id": "4ad11acb",
   "metadata": {},
   "outputs": [],
   "source": [
    "X_money = money"
   ]
  },
  {
   "cell_type": "code",
   "execution_count": 34,
   "id": "b5b29472",
   "metadata": {},
   "outputs": [],
   "source": [
    "X_money = X_money.rename(columns={'실제':'통화공급량'})\n",
    "X_money['Date'] = pd.to_datetime(X_money['Date'])"
   ]
  },
  {
   "cell_type": "markdown",
   "id": "cb213ec9",
   "metadata": {},
   "source": [
    "## X8: 한미 시장금리"
   ]
  },
  {
   "cell_type": "code",
   "execution_count": 35,
   "id": "58383c5d",
   "metadata": {},
   "outputs": [],
   "source": [
    "interest_rate = pd.read_csv(\"C:/Users/82105/Desktop/hello/Data/한미 시장금리.csv\", encoding='cp949')"
   ]
  },
  {
   "cell_type": "code",
   "execution_count": 36,
   "id": "295c7785",
   "metadata": {},
   "outputs": [],
   "source": [
    "X_interest_rate = interest_rate\n",
    "X_interest_rate['Date'] = pd.to_datetime(X_interest_rate['Date'])"
   ]
  },
  {
   "cell_type": "markdown",
   "id": "4d6f0792",
   "metadata": {},
   "source": [
    "## X9: 환율"
   ]
  },
  {
   "cell_type": "code",
   "execution_count": 37,
   "id": "c4be21ba",
   "metadata": {},
   "outputs": [],
   "source": [
    "exchange_rate = pd.read_csv(\"C:/Users/82105/Desktop/hello/Data/환율.csv\", encoding='cp949')"
   ]
  },
  {
   "cell_type": "code",
   "execution_count": 38,
   "id": "3579b33d",
   "metadata": {},
   "outputs": [],
   "source": [
    "exchange_rate['기준환율'] = exchange_rate['기준환율'].str.replace(',','')\n",
    "exchange_rate['기준환율'] = exchange_rate['기준환율'].astype('float')"
   ]
  },
  {
   "cell_type": "code",
   "execution_count": 39,
   "id": "03e393f2",
   "metadata": {},
   "outputs": [],
   "source": [
    "exchange_rate['일자'] = pd.to_datetime(exchange_rate['일자'])"
   ]
  },
  {
   "cell_type": "code",
   "execution_count": 40,
   "id": "fe76c568",
   "metadata": {},
   "outputs": [],
   "source": [
    "X_exchange_rate = exchange_rate.set_index('일자')\n",
    "X_exchange_rate = X_exchange_rate['기준환율'].resample('1m').mean()  # 월 평균 환율\n",
    "X_exchange_rate = X_exchange_rate.reset_index()\n",
    "X_exchange_rate = X_exchange_rate.rename(columns={'일자':'Date'})"
   ]
  },
  {
   "cell_type": "markdown",
   "id": "7eaf22ab",
   "metadata": {},
   "source": [
    "# 데이터 merge"
   ]
  },
  {
   "cell_type": "code",
   "execution_count": 41,
   "id": "20d878e0",
   "metadata": {},
   "outputs": [],
   "source": [
    "X = pd.merge(X_gold, X_oil, how='outer', on='Date')\n",
    "X = pd.merge(X, X_gdp, how='outer', on='Date')\n",
    "X = pd.merge(X, X_prod, how='outer', on='Date')\n",
    "X = pd.merge(X, X_consumer, how='outer', on='Date')\n",
    "X = pd.merge(X, X_wage, how='outer', on='Date')\n",
    "X = pd.merge(X, X_money, how='outer', on='Date')\n",
    "X = pd.merge(X, X_interest_rate, how='outer', on='Date')\n",
    "X = pd.merge(X, X_exchange_rate, how='outer', on='Date')"
   ]
  },
  {
   "cell_type": "code",
   "execution_count": 42,
   "id": "911d195a",
   "metadata": {},
   "outputs": [
    {
     "data": {
      "text/html": [
       "<div>\n",
       "<style scoped>\n",
       "    .dataframe tbody tr th:only-of-type {\n",
       "        vertical-align: middle;\n",
       "    }\n",
       "\n",
       "    .dataframe tbody tr th {\n",
       "        vertical-align: top;\n",
       "    }\n",
       "\n",
       "    .dataframe thead th {\n",
       "        text-align: right;\n",
       "    }\n",
       "</style>\n",
       "<table border=\"1\" class=\"dataframe\">\n",
       "  <thead>\n",
       "    <tr style=\"text-align: right;\">\n",
       "      <th></th>\n",
       "      <th>Date</th>\n",
       "      <th>금값</th>\n",
       "      <th>두바이유가</th>\n",
       "      <th>GDP</th>\n",
       "      <th>생산자물가지수</th>\n",
       "      <th>소비자물가지수</th>\n",
       "      <th>월평균 임금</th>\n",
       "      <th>통화공급량</th>\n",
       "      <th>한국_시장금리</th>\n",
       "      <th>미국_시장금리</th>\n",
       "      <th>기준환율</th>\n",
       "    </tr>\n",
       "  </thead>\n",
       "  <tbody>\n",
       "    <tr>\n",
       "      <th>0</th>\n",
       "      <td>2011-01-31</td>\n",
       "      <td>1362.238095</td>\n",
       "      <td>NaN</td>\n",
       "      <td>328096.000</td>\n",
       "      <td>5.70%</td>\n",
       "      <td>88.288</td>\n",
       "      <td>2487339.0</td>\n",
       "      <td>7.20%</td>\n",
       "      <td>3.09</td>\n",
       "      <td>0.1</td>\n",
       "      <td>1120.071429</td>\n",
       "    </tr>\n",
       "    <tr>\n",
       "      <th>1</th>\n",
       "      <td>2011-02-28</td>\n",
       "      <td>1375.715000</td>\n",
       "      <td>NaN</td>\n",
       "      <td>NaN</td>\n",
       "      <td>6.80%</td>\n",
       "      <td>88.892</td>\n",
       "      <td>NaN</td>\n",
       "      <td>6.80%</td>\n",
       "      <td>NaN</td>\n",
       "      <td>NaN</td>\n",
       "      <td>1118.141176</td>\n",
       "    </tr>\n",
       "    <tr>\n",
       "      <th>2</th>\n",
       "      <td>2011-03-31</td>\n",
       "      <td>1422.939130</td>\n",
       "      <td>NaN</td>\n",
       "      <td>NaN</td>\n",
       "      <td>7.40%</td>\n",
       "      <td>89.238</td>\n",
       "      <td>NaN</td>\n",
       "      <td>6.80%</td>\n",
       "      <td>NaN</td>\n",
       "      <td>NaN</td>\n",
       "      <td>1122.445455</td>\n",
       "    </tr>\n",
       "    <tr>\n",
       "      <th>3</th>\n",
       "      <td>2011-04-30</td>\n",
       "      <td>1482.500000</td>\n",
       "      <td>NaN</td>\n",
       "      <td>343678.800</td>\n",
       "      <td>8.20%</td>\n",
       "      <td>89.325</td>\n",
       "      <td>NaN</td>\n",
       "      <td>6.60%</td>\n",
       "      <td>NaN</td>\n",
       "      <td>NaN</td>\n",
       "      <td>1086.838095</td>\n",
       "    </tr>\n",
       "    <tr>\n",
       "      <th>4</th>\n",
       "      <td>2011-05-31</td>\n",
       "      <td>1512.477273</td>\n",
       "      <td>NaN</td>\n",
       "      <td>NaN</td>\n",
       "      <td>8.10%</td>\n",
       "      <td>89.497</td>\n",
       "      <td>NaN</td>\n",
       "      <td>6.60%</td>\n",
       "      <td>NaN</td>\n",
       "      <td>NaN</td>\n",
       "      <td>1083.535000</td>\n",
       "    </tr>\n",
       "    <tr>\n",
       "      <th>...</th>\n",
       "      <td>...</td>\n",
       "      <td>...</td>\n",
       "      <td>...</td>\n",
       "      <td>...</td>\n",
       "      <td>...</td>\n",
       "      <td>...</td>\n",
       "      <td>...</td>\n",
       "      <td>...</td>\n",
       "      <td>...</td>\n",
       "      <td>...</td>\n",
       "      <td>...</td>\n",
       "    </tr>\n",
       "    <tr>\n",
       "      <th>139</th>\n",
       "      <td>2022-08-31</td>\n",
       "      <td>1778.647826</td>\n",
       "      <td>96.057391</td>\n",
       "      <td>NaN</td>\n",
       "      <td>9.20%</td>\n",
       "      <td>108.620</td>\n",
       "      <td>NaN</td>\n",
       "      <td>7.50%</td>\n",
       "      <td>NaN</td>\n",
       "      <td>NaN</td>\n",
       "      <td>1318.440909</td>\n",
       "    </tr>\n",
       "    <tr>\n",
       "      <th>140</th>\n",
       "      <td>2022-09-30</td>\n",
       "      <td>1692.076087</td>\n",
       "      <td>91.751905</td>\n",
       "      <td>NaN</td>\n",
       "      <td>8.40%</td>\n",
       "      <td>108.930</td>\n",
       "      <td>NaN</td>\n",
       "      <td>7.10%</td>\n",
       "      <td>NaN</td>\n",
       "      <td>NaN</td>\n",
       "      <td>1391.590000</td>\n",
       "    </tr>\n",
       "    <tr>\n",
       "      <th>141</th>\n",
       "      <td>2022-10-31</td>\n",
       "      <td>1672.738095</td>\n",
       "      <td>91.476190</td>\n",
       "      <td>544119.282</td>\n",
       "      <td>8.00%</td>\n",
       "      <td>109.210</td>\n",
       "      <td>NaN</td>\n",
       "      <td>6.80%</td>\n",
       "      <td>NaN</td>\n",
       "      <td>NaN</td>\n",
       "      <td>1426.657895</td>\n",
       "    </tr>\n",
       "    <tr>\n",
       "      <th>142</th>\n",
       "      <td>2022-11-30</td>\n",
       "      <td>1731.109091</td>\n",
       "      <td>88.780476</td>\n",
       "      <td>NaN</td>\n",
       "      <td>7.30%</td>\n",
       "      <td>109.100</td>\n",
       "      <td>NaN</td>\n",
       "      <td>6.70%</td>\n",
       "      <td>NaN</td>\n",
       "      <td>NaN</td>\n",
       "      <td>1364.100000</td>\n",
       "    </tr>\n",
       "    <tr>\n",
       "      <th>143</th>\n",
       "      <td>2022-12-31</td>\n",
       "      <td>1807.818182</td>\n",
       "      <td>76.687619</td>\n",
       "      <td>NaN</td>\n",
       "      <td>6.30%</td>\n",
       "      <td>109.280</td>\n",
       "      <td>NaN</td>\n",
       "      <td>5.90%</td>\n",
       "      <td>NaN</td>\n",
       "      <td>NaN</td>\n",
       "      <td>1296.218182</td>\n",
       "    </tr>\n",
       "  </tbody>\n",
       "</table>\n",
       "<p>144 rows × 11 columns</p>\n",
       "</div>"
      ],
      "text/plain": [
       "          Date           금값      두바이유가         GDP 생산자물가지수  소비자물가지수  \\\n",
       "0   2011-01-31  1362.238095        NaN  328096.000   5.70%   88.288   \n",
       "1   2011-02-28  1375.715000        NaN         NaN   6.80%   88.892   \n",
       "2   2011-03-31  1422.939130        NaN         NaN   7.40%   89.238   \n",
       "3   2011-04-30  1482.500000        NaN  343678.800   8.20%   89.325   \n",
       "4   2011-05-31  1512.477273        NaN         NaN   8.10%   89.497   \n",
       "..         ...          ...        ...         ...     ...      ...   \n",
       "139 2022-08-31  1778.647826  96.057391         NaN   9.20%  108.620   \n",
       "140 2022-09-30  1692.076087  91.751905         NaN   8.40%  108.930   \n",
       "141 2022-10-31  1672.738095  91.476190  544119.282   8.00%  109.210   \n",
       "142 2022-11-30  1731.109091  88.780476         NaN   7.30%  109.100   \n",
       "143 2022-12-31  1807.818182  76.687619         NaN   6.30%  109.280   \n",
       "\n",
       "        월평균 임금  통화공급량  한국_시장금리  미국_시장금리         기준환율  \n",
       "0    2487339.0  7.20%     3.09      0.1  1120.071429  \n",
       "1          NaN  6.80%      NaN      NaN  1118.141176  \n",
       "2          NaN  6.80%      NaN      NaN  1122.445455  \n",
       "3          NaN  6.60%      NaN      NaN  1086.838095  \n",
       "4          NaN  6.60%      NaN      NaN  1083.535000  \n",
       "..         ...    ...      ...      ...          ...  \n",
       "139        NaN  7.50%      NaN      NaN  1318.440909  \n",
       "140        NaN  7.10%      NaN      NaN  1391.590000  \n",
       "141        NaN  6.80%      NaN      NaN  1426.657895  \n",
       "142        NaN  6.70%      NaN      NaN  1364.100000  \n",
       "143        NaN  5.90%      NaN      NaN  1296.218182  \n",
       "\n",
       "[144 rows x 11 columns]"
      ]
     },
     "execution_count": 42,
     "metadata": {},
     "output_type": "execute_result"
    }
   ],
   "source": [
    "X"
   ]
  },
  {
   "cell_type": "markdown",
   "id": "8a3d5fcf",
   "metadata": {},
   "source": [
    "# 최종 df"
   ]
  },
  {
   "cell_type": "code",
   "execution_count": 43,
   "id": "8e0ad90e",
   "metadata": {},
   "outputs": [],
   "source": [
    "X.to_csv(\"C:/Users/82105/Desktop/hello/Data/Kospi/Kospi 다중선형회귀 df.csv\", encoding='utf-8-sig')"
   ]
  },
  {
   "cell_type": "markdown",
   "id": "a854760c",
   "metadata": {},
   "source": [
    "# 다중선형회귀"
   ]
  },
  {
   "cell_type": "code",
   "execution_count": 44,
   "id": "a88b4f72",
   "metadata": {},
   "outputs": [],
   "source": [
    "df = pd.read_csv('C:/Users/82105/Desktop/hello/Data/Kospi/Kospi 다중선형회귀 df.csv')"
   ]
  },
  {
   "cell_type": "code",
   "execution_count": 45,
   "id": "2e6b79a1",
   "metadata": {},
   "outputs": [],
   "source": [
    "# Unnamed 컬럼 삭제\n",
    "df = df.iloc[:, 1:]"
   ]
  },
  {
   "cell_type": "code",
   "execution_count": 46,
   "id": "981199b2",
   "metadata": {},
   "outputs": [],
   "source": [
    "# 데이터에 %가 붙은 컬럼들을 float 형태로 바꿔주기\n",
    "# 5.6% -> 5.6 = 문자열 -> 숫자형\n",
    "df['생산자물가지수'] = df['생산자물가지수'].str.replace('%', '').astype('float')\n",
    "df['통화공급량'] = df['통화공급량'].str.replace('%', '').astype('float')"
   ]
  },
  {
   "cell_type": "code",
   "execution_count": 47,
   "id": "3743f6d7",
   "metadata": {},
   "outputs": [
    {
     "data": {
      "text/plain": [
       "Index(['Date', '금값', '두바이유가', 'GDP', '생산자물가지수', '소비자물가지수', '월평균 임금', '통화공급량',\n",
       "       '한국_시장금리', '미국_시장금리', '기준환율'],\n",
       "      dtype='object')"
      ]
     },
     "execution_count": 47,
     "metadata": {},
     "output_type": "execute_result"
    }
   ],
   "source": [
    "df.columns"
   ]
  },
  {
   "cell_type": "markdown",
   "id": "77e96c3f",
   "metadata": {},
   "source": [
    "# NaN값 채우기: KNNImputer()"
   ]
  },
  {
   "cell_type": "code",
   "execution_count": 48,
   "id": "aa25a250",
   "metadata": {},
   "outputs": [],
   "source": [
    "from sklearn.impute import KNNImputer"
   ]
  },
  {
   "cell_type": "code",
   "execution_count": 49,
   "id": "f62678b0",
   "metadata": {},
   "outputs": [],
   "source": [
    "# Date 컬럼을 뺀 실제 X들만 가져오기\n",
    "df1 = df[['금값', '두바이유가', 'GDP', '생산자물가지수', '소비자물가지수', '월평균 임금', '통화공급량',\n",
    "       '한국_시장금리', '미국_시장금리', '기준환율']]"
   ]
  },
  {
   "cell_type": "code",
   "execution_count": 50,
   "id": "a4633cd4",
   "metadata": {},
   "outputs": [
    {
     "data": {
      "text/html": [
       "<div>\n",
       "<style scoped>\n",
       "    .dataframe tbody tr th:only-of-type {\n",
       "        vertical-align: middle;\n",
       "    }\n",
       "\n",
       "    .dataframe tbody tr th {\n",
       "        vertical-align: top;\n",
       "    }\n",
       "\n",
       "    .dataframe thead th {\n",
       "        text-align: right;\n",
       "    }\n",
       "</style>\n",
       "<table border=\"1\" class=\"dataframe\">\n",
       "  <thead>\n",
       "    <tr style=\"text-align: right;\">\n",
       "      <th></th>\n",
       "      <th>금값</th>\n",
       "      <th>두바이유가</th>\n",
       "      <th>GDP</th>\n",
       "      <th>생산자물가지수</th>\n",
       "      <th>소비자물가지수</th>\n",
       "      <th>월평균 임금</th>\n",
       "      <th>통화공급량</th>\n",
       "      <th>한국_시장금리</th>\n",
       "      <th>미국_시장금리</th>\n",
       "      <th>기준환율</th>\n",
       "    </tr>\n",
       "  </thead>\n",
       "  <tbody>\n",
       "    <tr>\n",
       "      <th>0</th>\n",
       "      <td>1362.238095</td>\n",
       "      <td>NaN</td>\n",
       "      <td>328096.000</td>\n",
       "      <td>5.7</td>\n",
       "      <td>88.288</td>\n",
       "      <td>2487339.0</td>\n",
       "      <td>7.2</td>\n",
       "      <td>3.09</td>\n",
       "      <td>0.1</td>\n",
       "      <td>1120.071429</td>\n",
       "    </tr>\n",
       "    <tr>\n",
       "      <th>1</th>\n",
       "      <td>1375.715000</td>\n",
       "      <td>NaN</td>\n",
       "      <td>NaN</td>\n",
       "      <td>6.8</td>\n",
       "      <td>88.892</td>\n",
       "      <td>NaN</td>\n",
       "      <td>6.8</td>\n",
       "      <td>NaN</td>\n",
       "      <td>NaN</td>\n",
       "      <td>1118.141176</td>\n",
       "    </tr>\n",
       "    <tr>\n",
       "      <th>2</th>\n",
       "      <td>1422.939130</td>\n",
       "      <td>NaN</td>\n",
       "      <td>NaN</td>\n",
       "      <td>7.4</td>\n",
       "      <td>89.238</td>\n",
       "      <td>NaN</td>\n",
       "      <td>6.8</td>\n",
       "      <td>NaN</td>\n",
       "      <td>NaN</td>\n",
       "      <td>1122.445455</td>\n",
       "    </tr>\n",
       "    <tr>\n",
       "      <th>3</th>\n",
       "      <td>1482.500000</td>\n",
       "      <td>NaN</td>\n",
       "      <td>343678.800</td>\n",
       "      <td>8.2</td>\n",
       "      <td>89.325</td>\n",
       "      <td>NaN</td>\n",
       "      <td>6.6</td>\n",
       "      <td>NaN</td>\n",
       "      <td>NaN</td>\n",
       "      <td>1086.838095</td>\n",
       "    </tr>\n",
       "    <tr>\n",
       "      <th>4</th>\n",
       "      <td>1512.477273</td>\n",
       "      <td>NaN</td>\n",
       "      <td>NaN</td>\n",
       "      <td>8.1</td>\n",
       "      <td>89.497</td>\n",
       "      <td>NaN</td>\n",
       "      <td>6.6</td>\n",
       "      <td>NaN</td>\n",
       "      <td>NaN</td>\n",
       "      <td>1083.535000</td>\n",
       "    </tr>\n",
       "    <tr>\n",
       "      <th>...</th>\n",
       "      <td>...</td>\n",
       "      <td>...</td>\n",
       "      <td>...</td>\n",
       "      <td>...</td>\n",
       "      <td>...</td>\n",
       "      <td>...</td>\n",
       "      <td>...</td>\n",
       "      <td>...</td>\n",
       "      <td>...</td>\n",
       "      <td>...</td>\n",
       "    </tr>\n",
       "    <tr>\n",
       "      <th>139</th>\n",
       "      <td>1778.647826</td>\n",
       "      <td>96.057391</td>\n",
       "      <td>NaN</td>\n",
       "      <td>9.2</td>\n",
       "      <td>108.620</td>\n",
       "      <td>NaN</td>\n",
       "      <td>7.5</td>\n",
       "      <td>NaN</td>\n",
       "      <td>NaN</td>\n",
       "      <td>1318.440909</td>\n",
       "    </tr>\n",
       "    <tr>\n",
       "      <th>140</th>\n",
       "      <td>1692.076087</td>\n",
       "      <td>91.751905</td>\n",
       "      <td>NaN</td>\n",
       "      <td>8.4</td>\n",
       "      <td>108.930</td>\n",
       "      <td>NaN</td>\n",
       "      <td>7.1</td>\n",
       "      <td>NaN</td>\n",
       "      <td>NaN</td>\n",
       "      <td>1391.590000</td>\n",
       "    </tr>\n",
       "    <tr>\n",
       "      <th>141</th>\n",
       "      <td>1672.738095</td>\n",
       "      <td>91.476190</td>\n",
       "      <td>544119.282</td>\n",
       "      <td>8.0</td>\n",
       "      <td>109.210</td>\n",
       "      <td>NaN</td>\n",
       "      <td>6.8</td>\n",
       "      <td>NaN</td>\n",
       "      <td>NaN</td>\n",
       "      <td>1426.657895</td>\n",
       "    </tr>\n",
       "    <tr>\n",
       "      <th>142</th>\n",
       "      <td>1731.109091</td>\n",
       "      <td>88.780476</td>\n",
       "      <td>NaN</td>\n",
       "      <td>7.3</td>\n",
       "      <td>109.100</td>\n",
       "      <td>NaN</td>\n",
       "      <td>6.7</td>\n",
       "      <td>NaN</td>\n",
       "      <td>NaN</td>\n",
       "      <td>1364.100000</td>\n",
       "    </tr>\n",
       "    <tr>\n",
       "      <th>143</th>\n",
       "      <td>1807.818182</td>\n",
       "      <td>76.687619</td>\n",
       "      <td>NaN</td>\n",
       "      <td>6.3</td>\n",
       "      <td>109.280</td>\n",
       "      <td>NaN</td>\n",
       "      <td>5.9</td>\n",
       "      <td>NaN</td>\n",
       "      <td>NaN</td>\n",
       "      <td>1296.218182</td>\n",
       "    </tr>\n",
       "  </tbody>\n",
       "</table>\n",
       "<p>144 rows × 10 columns</p>\n",
       "</div>"
      ],
      "text/plain": [
       "              금값      두바이유가         GDP  생산자물가지수  소비자물가지수     월평균 임금  통화공급량  \\\n",
       "0    1362.238095        NaN  328096.000      5.7   88.288  2487339.0    7.2   \n",
       "1    1375.715000        NaN         NaN      6.8   88.892        NaN    6.8   \n",
       "2    1422.939130        NaN         NaN      7.4   89.238        NaN    6.8   \n",
       "3    1482.500000        NaN  343678.800      8.2   89.325        NaN    6.6   \n",
       "4    1512.477273        NaN         NaN      8.1   89.497        NaN    6.6   \n",
       "..           ...        ...         ...      ...      ...        ...    ...   \n",
       "139  1778.647826  96.057391         NaN      9.2  108.620        NaN    7.5   \n",
       "140  1692.076087  91.751905         NaN      8.4  108.930        NaN    7.1   \n",
       "141  1672.738095  91.476190  544119.282      8.0  109.210        NaN    6.8   \n",
       "142  1731.109091  88.780476         NaN      7.3  109.100        NaN    6.7   \n",
       "143  1807.818182  76.687619         NaN      6.3  109.280        NaN    5.9   \n",
       "\n",
       "     한국_시장금리  미국_시장금리         기준환율  \n",
       "0       3.09      0.1  1120.071429  \n",
       "1        NaN      NaN  1118.141176  \n",
       "2        NaN      NaN  1122.445455  \n",
       "3        NaN      NaN  1086.838095  \n",
       "4        NaN      NaN  1083.535000  \n",
       "..       ...      ...          ...  \n",
       "139      NaN      NaN  1318.440909  \n",
       "140      NaN      NaN  1391.590000  \n",
       "141      NaN      NaN  1426.657895  \n",
       "142      NaN      NaN  1364.100000  \n",
       "143      NaN      NaN  1296.218182  \n",
       "\n",
       "[144 rows x 10 columns]"
      ]
     },
     "execution_count": 50,
     "metadata": {},
     "output_type": "execute_result"
    }
   ],
   "source": [
    "df1"
   ]
  },
  {
   "cell_type": "code",
   "execution_count": 51,
   "id": "6472ba1f",
   "metadata": {},
   "outputs": [
    {
     "name": "stderr",
     "output_type": "stream",
     "text": [
      "C:\\Users\\82105\\AppData\\Local\\Temp\\ipykernel_18640\\3124686596.py:2: SettingWithCopyWarning: \n",
      "A value is trying to be set on a copy of a slice from a DataFrame.\n",
      "Try using .loc[row_indexer,col_indexer] = value instead\n",
      "\n",
      "See the caveats in the documentation: https://pandas.pydata.org/pandas-docs/stable/user_guide/indexing.html#returning-a-view-versus-a-copy\n",
      "  df1[['금값', '두바이유가', 'GDP', '생산자물가지수', '소비자물가지수', '월평균 임금', '통화공급량',\n"
     ]
    }
   ],
   "source": [
    "imputer = KNNImputer()\n",
    "df1[['금값', '두바이유가', 'GDP', '생산자물가지수', '소비자물가지수', '월평균 임금', '통화공급량',\n",
    "       '한국_시장금리', '미국_시장금리', '기준환율']] = imputer.fit_transform(df1[['금값', '두바이유가', 'GDP', '생산자물가지수', '소비자물가지수', '월평균 임금', '통화공급량',\n",
    "       '한국_시장금리', '미국_시장금리', '기준환율']])"
   ]
  },
  {
   "cell_type": "code",
   "execution_count": 52,
   "id": "fab60ac0",
   "metadata": {},
   "outputs": [
    {
     "name": "stdout",
     "output_type": "stream",
     "text": [
      "<class 'pandas.core.frame.DataFrame'>\n",
      "RangeIndex: 144 entries, 0 to 143\n",
      "Data columns (total 10 columns):\n",
      " #   Column   Non-Null Count  Dtype  \n",
      "---  ------   --------------  -----  \n",
      " 0   금값       144 non-null    float64\n",
      " 1   두바이유가    144 non-null    float64\n",
      " 2   GDP      144 non-null    float64\n",
      " 3   생산자물가지수  144 non-null    float64\n",
      " 4   소비자물가지수  144 non-null    float64\n",
      " 5   월평균 임금   144 non-null    float64\n",
      " 6   통화공급량    144 non-null    float64\n",
      " 7   한국_시장금리  144 non-null    float64\n",
      " 8   미국_시장금리  144 non-null    float64\n",
      " 9   기준환율     144 non-null    float64\n",
      "dtypes: float64(10)\n",
      "memory usage: 11.4 KB\n"
     ]
    }
   ],
   "source": [
    "df1.info()"
   ]
  },
  {
   "cell_type": "code",
   "execution_count": 53,
   "id": "ac14079e",
   "metadata": {},
   "outputs": [
    {
     "data": {
      "text/html": [
       "<div>\n",
       "<style scoped>\n",
       "    .dataframe tbody tr th:only-of-type {\n",
       "        vertical-align: middle;\n",
       "    }\n",
       "\n",
       "    .dataframe tbody tr th {\n",
       "        vertical-align: top;\n",
       "    }\n",
       "\n",
       "    .dataframe thead th {\n",
       "        text-align: right;\n",
       "    }\n",
       "</style>\n",
       "<table border=\"1\" class=\"dataframe\">\n",
       "  <thead>\n",
       "    <tr style=\"text-align: right;\">\n",
       "      <th></th>\n",
       "      <th>금값</th>\n",
       "      <th>두바이유가</th>\n",
       "      <th>GDP</th>\n",
       "      <th>생산자물가지수</th>\n",
       "      <th>소비자물가지수</th>\n",
       "      <th>월평균 임금</th>\n",
       "      <th>통화공급량</th>\n",
       "      <th>한국_시장금리</th>\n",
       "      <th>미국_시장금리</th>\n",
       "      <th>기준환율</th>\n",
       "    </tr>\n",
       "  </thead>\n",
       "  <tbody>\n",
       "    <tr>\n",
       "      <th>0</th>\n",
       "      <td>1362.238095</td>\n",
       "      <td>53.110665</td>\n",
       "      <td>328096.0000</td>\n",
       "      <td>5.7</td>\n",
       "      <td>88.288</td>\n",
       "      <td>2487339.0</td>\n",
       "      <td>7.2</td>\n",
       "      <td>3.090</td>\n",
       "      <td>0.100</td>\n",
       "      <td>1120.071429</td>\n",
       "    </tr>\n",
       "    <tr>\n",
       "      <th>1</th>\n",
       "      <td>1375.715000</td>\n",
       "      <td>49.183402</td>\n",
       "      <td>435680.2400</td>\n",
       "      <td>6.8</td>\n",
       "      <td>88.892</td>\n",
       "      <td>2983383.6</td>\n",
       "      <td>6.8</td>\n",
       "      <td>2.038</td>\n",
       "      <td>0.862</td>\n",
       "      <td>1118.141176</td>\n",
       "    </tr>\n",
       "    <tr>\n",
       "      <th>2</th>\n",
       "      <td>1422.939130</td>\n",
       "      <td>58.312067</td>\n",
       "      <td>394624.1400</td>\n",
       "      <td>7.4</td>\n",
       "      <td>89.238</td>\n",
       "      <td>3105172.4</td>\n",
       "      <td>6.8</td>\n",
       "      <td>1.710</td>\n",
       "      <td>0.920</td>\n",
       "      <td>1122.445455</td>\n",
       "    </tr>\n",
       "    <tr>\n",
       "      <th>3</th>\n",
       "      <td>1482.500000</td>\n",
       "      <td>57.345793</td>\n",
       "      <td>343678.8000</td>\n",
       "      <td>8.2</td>\n",
       "      <td>89.325</td>\n",
       "      <td>2721724.4</td>\n",
       "      <td>6.6</td>\n",
       "      <td>2.550</td>\n",
       "      <td>0.114</td>\n",
       "      <td>1086.838095</td>\n",
       "    </tr>\n",
       "    <tr>\n",
       "      <th>4</th>\n",
       "      <td>1512.477273</td>\n",
       "      <td>61.969665</td>\n",
       "      <td>377736.4400</td>\n",
       "      <td>8.1</td>\n",
       "      <td>89.497</td>\n",
       "      <td>2910132.2</td>\n",
       "      <td>6.6</td>\n",
       "      <td>2.196</td>\n",
       "      <td>0.512</td>\n",
       "      <td>1083.535000</td>\n",
       "    </tr>\n",
       "    <tr>\n",
       "      <th>...</th>\n",
       "      <td>...</td>\n",
       "      <td>...</td>\n",
       "      <td>...</td>\n",
       "      <td>...</td>\n",
       "      <td>...</td>\n",
       "      <td>...</td>\n",
       "      <td>...</td>\n",
       "      <td>...</td>\n",
       "      <td>...</td>\n",
       "      <td>...</td>\n",
       "    </tr>\n",
       "    <tr>\n",
       "      <th>139</th>\n",
       "      <td>1778.647826</td>\n",
       "      <td>96.057391</td>\n",
       "      <td>514606.4800</td>\n",
       "      <td>9.2</td>\n",
       "      <td>108.620</td>\n",
       "      <td>3220586.6</td>\n",
       "      <td>7.5</td>\n",
       "      <td>2.014</td>\n",
       "      <td>0.162</td>\n",
       "      <td>1318.440909</td>\n",
       "    </tr>\n",
       "    <tr>\n",
       "      <th>140</th>\n",
       "      <td>1692.076087</td>\n",
       "      <td>91.751905</td>\n",
       "      <td>524162.2764</td>\n",
       "      <td>8.4</td>\n",
       "      <td>108.930</td>\n",
       "      <td>3220586.6</td>\n",
       "      <td>7.1</td>\n",
       "      <td>2.014</td>\n",
       "      <td>0.162</td>\n",
       "      <td>1391.590000</td>\n",
       "    </tr>\n",
       "    <tr>\n",
       "      <th>141</th>\n",
       "      <td>1672.738095</td>\n",
       "      <td>91.476190</td>\n",
       "      <td>544119.2820</td>\n",
       "      <td>8.0</td>\n",
       "      <td>109.210</td>\n",
       "      <td>3482245.8</td>\n",
       "      <td>6.8</td>\n",
       "      <td>1.136</td>\n",
       "      <td>1.090</td>\n",
       "      <td>1426.657895</td>\n",
       "    </tr>\n",
       "    <tr>\n",
       "      <th>142</th>\n",
       "      <td>1731.109091</td>\n",
       "      <td>88.780476</td>\n",
       "      <td>524162.2764</td>\n",
       "      <td>7.3</td>\n",
       "      <td>109.100</td>\n",
       "      <td>3220586.6</td>\n",
       "      <td>6.7</td>\n",
       "      <td>2.014</td>\n",
       "      <td>0.162</td>\n",
       "      <td>1364.100000</td>\n",
       "    </tr>\n",
       "    <tr>\n",
       "      <th>143</th>\n",
       "      <td>1807.818182</td>\n",
       "      <td>76.687619</td>\n",
       "      <td>514606.4800</td>\n",
       "      <td>6.3</td>\n",
       "      <td>109.280</td>\n",
       "      <td>3220586.6</td>\n",
       "      <td>5.9</td>\n",
       "      <td>2.014</td>\n",
       "      <td>0.162</td>\n",
       "      <td>1296.218182</td>\n",
       "    </tr>\n",
       "  </tbody>\n",
       "</table>\n",
       "<p>144 rows × 10 columns</p>\n",
       "</div>"
      ],
      "text/plain": [
       "              금값      두바이유가          GDP  생산자물가지수  소비자물가지수     월평균 임금  통화공급량  \\\n",
       "0    1362.238095  53.110665  328096.0000      5.7   88.288  2487339.0    7.2   \n",
       "1    1375.715000  49.183402  435680.2400      6.8   88.892  2983383.6    6.8   \n",
       "2    1422.939130  58.312067  394624.1400      7.4   89.238  3105172.4    6.8   \n",
       "3    1482.500000  57.345793  343678.8000      8.2   89.325  2721724.4    6.6   \n",
       "4    1512.477273  61.969665  377736.4400      8.1   89.497  2910132.2    6.6   \n",
       "..           ...        ...          ...      ...      ...        ...    ...   \n",
       "139  1778.647826  96.057391  514606.4800      9.2  108.620  3220586.6    7.5   \n",
       "140  1692.076087  91.751905  524162.2764      8.4  108.930  3220586.6    7.1   \n",
       "141  1672.738095  91.476190  544119.2820      8.0  109.210  3482245.8    6.8   \n",
       "142  1731.109091  88.780476  524162.2764      7.3  109.100  3220586.6    6.7   \n",
       "143  1807.818182  76.687619  514606.4800      6.3  109.280  3220586.6    5.9   \n",
       "\n",
       "     한국_시장금리  미국_시장금리         기준환율  \n",
       "0      3.090    0.100  1120.071429  \n",
       "1      2.038    0.862  1118.141176  \n",
       "2      1.710    0.920  1122.445455  \n",
       "3      2.550    0.114  1086.838095  \n",
       "4      2.196    0.512  1083.535000  \n",
       "..       ...      ...          ...  \n",
       "139    2.014    0.162  1318.440909  \n",
       "140    2.014    0.162  1391.590000  \n",
       "141    1.136    1.090  1426.657895  \n",
       "142    2.014    0.162  1364.100000  \n",
       "143    2.014    0.162  1296.218182  \n",
       "\n",
       "[144 rows x 10 columns]"
      ]
     },
     "execution_count": 53,
     "metadata": {},
     "output_type": "execute_result"
    }
   ],
   "source": [
    "df1  # NaN값 채워진 거 확인하기"
   ]
  },
  {
   "cell_type": "markdown",
   "id": "c82b46e7",
   "metadata": {},
   "source": [
    "## train, validation 데이터 나누기"
   ]
  },
  {
   "cell_type": "code",
   "execution_count": 54,
   "id": "1555b3d9",
   "metadata": {},
   "outputs": [],
   "source": [
    "from sklearn.model_selection import train_test_split"
   ]
  },
  {
   "cell_type": "code",
   "execution_count": 55,
   "id": "430a5c7d",
   "metadata": {},
   "outputs": [],
   "source": [
    "X_train, X_val, y_train, y_val = train_test_split(df1, y, random_state=42, test_size=0.2)"
   ]
  },
  {
   "cell_type": "markdown",
   "id": "e5e333d3",
   "metadata": {},
   "source": [
    "## Scaling"
   ]
  },
  {
   "cell_type": "code",
   "execution_count": 56,
   "id": "7361f54a",
   "metadata": {},
   "outputs": [],
   "source": [
    "from sklearn.preprocessing import StandardScaler"
   ]
  },
  {
   "cell_type": "code",
   "execution_count": 57,
   "id": "e67cef9d",
   "metadata": {},
   "outputs": [],
   "source": [
    "scaler = StandardScaler()\n",
    "scaler.fit(X_train)\n",
    "X_train[['금값', '두바이유가', 'GDP', '생산자물가지수', '소비자물가지수', '월평균 임금', '통화공급량',\n",
    "       '한국_시장금리', '미국_시장금리', '기준환율']] = scaler.transform(X_train[['금값', '두바이유가', 'GDP', '생산자물가지수', '소비자물가지수', '월평균 임금', '통화공급량',\n",
    "       '한국_시장금리', '미국_시장금리', '기준환율']])\n",
    "X_val[['금값', '두바이유가', 'GDP', '생산자물가지수', '소비자물가지수', '월평균 임금', '통화공급량',\n",
    "       '한국_시장금리', '미국_시장금리', '기준환율']] = scaler.transform(X_val[['금값', '두바이유가', 'GDP', '생산자물가지수', '소비자물가지수', '월평균 임금', '통화공급량',\n",
    "       '한국_시장금리', '미국_시장금리', '기준환율']])"
   ]
  },
  {
   "cell_type": "markdown",
   "id": "09a0fb26",
   "metadata": {},
   "source": [
    "## 다중선형회귀  \n",
    "X1~X10이 y에게 영향을 끼치는 정도"
   ]
  },
  {
   "cell_type": "code",
   "execution_count": 58,
   "id": "09cc4eb8",
   "metadata": {},
   "outputs": [],
   "source": [
    "from sklearn.linear_model import LinearRegression"
   ]
  },
  {
   "cell_type": "code",
   "execution_count": 59,
   "id": "8f08af9b",
   "metadata": {},
   "outputs": [],
   "source": [
    "linear = LinearRegression()"
   ]
  },
  {
   "cell_type": "code",
   "execution_count": 60,
   "id": "6d7b342f",
   "metadata": {},
   "outputs": [
    {
     "data": {
      "text/html": [
       "<style>#sk-container-id-1 {color: black;background-color: white;}#sk-container-id-1 pre{padding: 0;}#sk-container-id-1 div.sk-toggleable {background-color: white;}#sk-container-id-1 label.sk-toggleable__label {cursor: pointer;display: block;width: 100%;margin-bottom: 0;padding: 0.3em;box-sizing: border-box;text-align: center;}#sk-container-id-1 label.sk-toggleable__label-arrow:before {content: \"▸\";float: left;margin-right: 0.25em;color: #696969;}#sk-container-id-1 label.sk-toggleable__label-arrow:hover:before {color: black;}#sk-container-id-1 div.sk-estimator:hover label.sk-toggleable__label-arrow:before {color: black;}#sk-container-id-1 div.sk-toggleable__content {max-height: 0;max-width: 0;overflow: hidden;text-align: left;background-color: #f0f8ff;}#sk-container-id-1 div.sk-toggleable__content pre {margin: 0.2em;color: black;border-radius: 0.25em;background-color: #f0f8ff;}#sk-container-id-1 input.sk-toggleable__control:checked~div.sk-toggleable__content {max-height: 200px;max-width: 100%;overflow: auto;}#sk-container-id-1 input.sk-toggleable__control:checked~label.sk-toggleable__label-arrow:before {content: \"▾\";}#sk-container-id-1 div.sk-estimator input.sk-toggleable__control:checked~label.sk-toggleable__label {background-color: #d4ebff;}#sk-container-id-1 div.sk-label input.sk-toggleable__control:checked~label.sk-toggleable__label {background-color: #d4ebff;}#sk-container-id-1 input.sk-hidden--visually {border: 0;clip: rect(1px 1px 1px 1px);clip: rect(1px, 1px, 1px, 1px);height: 1px;margin: -1px;overflow: hidden;padding: 0;position: absolute;width: 1px;}#sk-container-id-1 div.sk-estimator {font-family: monospace;background-color: #f0f8ff;border: 1px dotted black;border-radius: 0.25em;box-sizing: border-box;margin-bottom: 0.5em;}#sk-container-id-1 div.sk-estimator:hover {background-color: #d4ebff;}#sk-container-id-1 div.sk-parallel-item::after {content: \"\";width: 100%;border-bottom: 1px solid gray;flex-grow: 1;}#sk-container-id-1 div.sk-label:hover label.sk-toggleable__label {background-color: #d4ebff;}#sk-container-id-1 div.sk-serial::before {content: \"\";position: absolute;border-left: 1px solid gray;box-sizing: border-box;top: 0;bottom: 0;left: 50%;z-index: 0;}#sk-container-id-1 div.sk-serial {display: flex;flex-direction: column;align-items: center;background-color: white;padding-right: 0.2em;padding-left: 0.2em;position: relative;}#sk-container-id-1 div.sk-item {position: relative;z-index: 1;}#sk-container-id-1 div.sk-parallel {display: flex;align-items: stretch;justify-content: center;background-color: white;position: relative;}#sk-container-id-1 div.sk-item::before, #sk-container-id-1 div.sk-parallel-item::before {content: \"\";position: absolute;border-left: 1px solid gray;box-sizing: border-box;top: 0;bottom: 0;left: 50%;z-index: -1;}#sk-container-id-1 div.sk-parallel-item {display: flex;flex-direction: column;z-index: 1;position: relative;background-color: white;}#sk-container-id-1 div.sk-parallel-item:first-child::after {align-self: flex-end;width: 50%;}#sk-container-id-1 div.sk-parallel-item:last-child::after {align-self: flex-start;width: 50%;}#sk-container-id-1 div.sk-parallel-item:only-child::after {width: 0;}#sk-container-id-1 div.sk-dashed-wrapped {border: 1px dashed gray;margin: 0 0.4em 0.5em 0.4em;box-sizing: border-box;padding-bottom: 0.4em;background-color: white;}#sk-container-id-1 div.sk-label label {font-family: monospace;font-weight: bold;display: inline-block;line-height: 1.2em;}#sk-container-id-1 div.sk-label-container {text-align: center;}#sk-container-id-1 div.sk-container {/* jupyter's `normalize.less` sets `[hidden] { display: none; }` but bootstrap.min.css set `[hidden] { display: none !important; }` so we also need the `!important` here to be able to override the default hidden behavior on the sphinx rendered scikit-learn.org. See: https://github.com/scikit-learn/scikit-learn/issues/21755 */display: inline-block !important;position: relative;}#sk-container-id-1 div.sk-text-repr-fallback {display: none;}</style><div id=\"sk-container-id-1\" class=\"sk-top-container\"><div class=\"sk-text-repr-fallback\"><pre>LinearRegression()</pre><b>In a Jupyter environment, please rerun this cell to show the HTML representation or trust the notebook. <br />On GitHub, the HTML representation is unable to render, please try loading this page with nbviewer.org.</b></div><div class=\"sk-container\" hidden><div class=\"sk-item\"><div class=\"sk-estimator sk-toggleable\"><input class=\"sk-toggleable__control sk-hidden--visually\" id=\"sk-estimator-id-1\" type=\"checkbox\" checked><label for=\"sk-estimator-id-1\" class=\"sk-toggleable__label sk-toggleable__label-arrow\">LinearRegression</label><div class=\"sk-toggleable__content\"><pre>LinearRegression()</pre></div></div></div></div></div>"
      ],
      "text/plain": [
       "LinearRegression()"
      ]
     },
     "execution_count": 60,
     "metadata": {},
     "output_type": "execute_result"
    }
   ],
   "source": [
    "# 학습\n",
    "linear.fit(X_train, y_train)"
   ]
  },
  {
   "cell_type": "code",
   "execution_count": 61,
   "id": "a347f248",
   "metadata": {},
   "outputs": [],
   "source": [
    "# 예측\n",
    "train_pred = linear.predict(X_train)\n",
    "valid_pred = linear.predict(X_val)"
   ]
  },
  {
   "cell_type": "code",
   "execution_count": 62,
   "id": "9984aa74",
   "metadata": {},
   "outputs": [],
   "source": [
    "# 결정 계수\n",
    "from sklearn.metrics import r2_score"
   ]
  },
  {
   "cell_type": "code",
   "execution_count": 63,
   "id": "6c6c024e",
   "metadata": {},
   "outputs": [
    {
     "name": "stdout",
     "output_type": "stream",
     "text": [
      "0.46016816237265623\n",
      "0.09792888168174385\n"
     ]
    }
   ],
   "source": [
    "print(r2_score(y_train, train_pred))\n",
    "print(r2_score(y_val, valid_pred))"
   ]
  },
  {
   "cell_type": "code",
   "execution_count": 64,
   "id": "783f3cb0",
   "metadata": {},
   "outputs": [],
   "source": [
    "# X1~X10이 y에게 영향을 끼치는 정도\n",
    "result_dic = {column:coef for column, coef in zip(df1.columns, linear.coef_)}"
   ]
  },
  {
   "cell_type": "code",
   "execution_count": 65,
   "id": "490d9096",
   "metadata": {},
   "outputs": [
    {
     "data": {
      "text/plain": [
       "{'금값': 0.16111754972922773,\n",
       " '두바이유가': -0.027399676177071293,\n",
       " 'GDP': 0.13220773308088538,\n",
       " '생산자물가지수': 0.022286988620588095,\n",
       " '소비자물가지수': -0.17961874578729592,\n",
       " '월평균 임금': 0.00023987282349464484,\n",
       " '통화공급량': -0.09418015173934993,\n",
       " '한국_시장금리': -0.06277751508465311,\n",
       " '미국_시장금리': -0.08542919821092976,\n",
       " '기준환율': 0.049121550121824877}"
      ]
     },
     "execution_count": 65,
     "metadata": {},
     "output_type": "execute_result"
    }
   ],
   "source": [
    "result_dic"
   ]
  },
  {
   "cell_type": "markdown",
   "id": "700d657c",
   "metadata": {},
   "source": [
    "# XGBoost  \n",
    "모델을 예측할 때 X1~X10이 사용된 빈도/정도"
   ]
  },
  {
   "cell_type": "code",
   "execution_count": 66,
   "id": "1dd1df01",
   "metadata": {},
   "outputs": [],
   "source": [
    "from xgboost import XGBRegressor\n",
    "from xgboost import plot_importance"
   ]
  },
  {
   "cell_type": "code",
   "execution_count": 67,
   "id": "dd50e264",
   "metadata": {},
   "outputs": [],
   "source": [
    "modelXGB = XGBRegressor()"
   ]
  },
  {
   "cell_type": "code",
   "execution_count": 68,
   "id": "0a93ed7c",
   "metadata": {},
   "outputs": [
    {
     "data": {
      "text/html": [
       "<style>#sk-container-id-2 {color: black;background-color: white;}#sk-container-id-2 pre{padding: 0;}#sk-container-id-2 div.sk-toggleable {background-color: white;}#sk-container-id-2 label.sk-toggleable__label {cursor: pointer;display: block;width: 100%;margin-bottom: 0;padding: 0.3em;box-sizing: border-box;text-align: center;}#sk-container-id-2 label.sk-toggleable__label-arrow:before {content: \"▸\";float: left;margin-right: 0.25em;color: #696969;}#sk-container-id-2 label.sk-toggleable__label-arrow:hover:before {color: black;}#sk-container-id-2 div.sk-estimator:hover label.sk-toggleable__label-arrow:before {color: black;}#sk-container-id-2 div.sk-toggleable__content {max-height: 0;max-width: 0;overflow: hidden;text-align: left;background-color: #f0f8ff;}#sk-container-id-2 div.sk-toggleable__content pre {margin: 0.2em;color: black;border-radius: 0.25em;background-color: #f0f8ff;}#sk-container-id-2 input.sk-toggleable__control:checked~div.sk-toggleable__content {max-height: 200px;max-width: 100%;overflow: auto;}#sk-container-id-2 input.sk-toggleable__control:checked~label.sk-toggleable__label-arrow:before {content: \"▾\";}#sk-container-id-2 div.sk-estimator input.sk-toggleable__control:checked~label.sk-toggleable__label {background-color: #d4ebff;}#sk-container-id-2 div.sk-label input.sk-toggleable__control:checked~label.sk-toggleable__label {background-color: #d4ebff;}#sk-container-id-2 input.sk-hidden--visually {border: 0;clip: rect(1px 1px 1px 1px);clip: rect(1px, 1px, 1px, 1px);height: 1px;margin: -1px;overflow: hidden;padding: 0;position: absolute;width: 1px;}#sk-container-id-2 div.sk-estimator {font-family: monospace;background-color: #f0f8ff;border: 1px dotted black;border-radius: 0.25em;box-sizing: border-box;margin-bottom: 0.5em;}#sk-container-id-2 div.sk-estimator:hover {background-color: #d4ebff;}#sk-container-id-2 div.sk-parallel-item::after {content: \"\";width: 100%;border-bottom: 1px solid gray;flex-grow: 1;}#sk-container-id-2 div.sk-label:hover label.sk-toggleable__label {background-color: #d4ebff;}#sk-container-id-2 div.sk-serial::before {content: \"\";position: absolute;border-left: 1px solid gray;box-sizing: border-box;top: 0;bottom: 0;left: 50%;z-index: 0;}#sk-container-id-2 div.sk-serial {display: flex;flex-direction: column;align-items: center;background-color: white;padding-right: 0.2em;padding-left: 0.2em;position: relative;}#sk-container-id-2 div.sk-item {position: relative;z-index: 1;}#sk-container-id-2 div.sk-parallel {display: flex;align-items: stretch;justify-content: center;background-color: white;position: relative;}#sk-container-id-2 div.sk-item::before, #sk-container-id-2 div.sk-parallel-item::before {content: \"\";position: absolute;border-left: 1px solid gray;box-sizing: border-box;top: 0;bottom: 0;left: 50%;z-index: -1;}#sk-container-id-2 div.sk-parallel-item {display: flex;flex-direction: column;z-index: 1;position: relative;background-color: white;}#sk-container-id-2 div.sk-parallel-item:first-child::after {align-self: flex-end;width: 50%;}#sk-container-id-2 div.sk-parallel-item:last-child::after {align-self: flex-start;width: 50%;}#sk-container-id-2 div.sk-parallel-item:only-child::after {width: 0;}#sk-container-id-2 div.sk-dashed-wrapped {border: 1px dashed gray;margin: 0 0.4em 0.5em 0.4em;box-sizing: border-box;padding-bottom: 0.4em;background-color: white;}#sk-container-id-2 div.sk-label label {font-family: monospace;font-weight: bold;display: inline-block;line-height: 1.2em;}#sk-container-id-2 div.sk-label-container {text-align: center;}#sk-container-id-2 div.sk-container {/* jupyter's `normalize.less` sets `[hidden] { display: none; }` but bootstrap.min.css set `[hidden] { display: none !important; }` so we also need the `!important` here to be able to override the default hidden behavior on the sphinx rendered scikit-learn.org. See: https://github.com/scikit-learn/scikit-learn/issues/21755 */display: inline-block !important;position: relative;}#sk-container-id-2 div.sk-text-repr-fallback {display: none;}</style><div id=\"sk-container-id-2\" class=\"sk-top-container\"><div class=\"sk-text-repr-fallback\"><pre>XGBRegressor(base_score=None, booster=None, callbacks=None,\n",
       "             colsample_bylevel=None, colsample_bynode=None,\n",
       "             colsample_bytree=None, early_stopping_rounds=None,\n",
       "             enable_categorical=False, eval_metric=None, feature_types=None,\n",
       "             gamma=None, gpu_id=None, grow_policy=None, importance_type=None,\n",
       "             interaction_constraints=None, learning_rate=None, max_bin=None,\n",
       "             max_cat_threshold=None, max_cat_to_onehot=None,\n",
       "             max_delta_step=None, max_depth=None, max_leaves=None,\n",
       "             min_child_weight=None, missing=nan, monotone_constraints=None,\n",
       "             n_estimators=100, n_jobs=None, num_parallel_tree=None,\n",
       "             predictor=None, random_state=None, ...)</pre><b>In a Jupyter environment, please rerun this cell to show the HTML representation or trust the notebook. <br />On GitHub, the HTML representation is unable to render, please try loading this page with nbviewer.org.</b></div><div class=\"sk-container\" hidden><div class=\"sk-item\"><div class=\"sk-estimator sk-toggleable\"><input class=\"sk-toggleable__control sk-hidden--visually\" id=\"sk-estimator-id-2\" type=\"checkbox\" checked><label for=\"sk-estimator-id-2\" class=\"sk-toggleable__label sk-toggleable__label-arrow\">XGBRegressor</label><div class=\"sk-toggleable__content\"><pre>XGBRegressor(base_score=None, booster=None, callbacks=None,\n",
       "             colsample_bylevel=None, colsample_bynode=None,\n",
       "             colsample_bytree=None, early_stopping_rounds=None,\n",
       "             enable_categorical=False, eval_metric=None, feature_types=None,\n",
       "             gamma=None, gpu_id=None, grow_policy=None, importance_type=None,\n",
       "             interaction_constraints=None, learning_rate=None, max_bin=None,\n",
       "             max_cat_threshold=None, max_cat_to_onehot=None,\n",
       "             max_delta_step=None, max_depth=None, max_leaves=None,\n",
       "             min_child_weight=None, missing=nan, monotone_constraints=None,\n",
       "             n_estimators=100, n_jobs=None, num_parallel_tree=None,\n",
       "             predictor=None, random_state=None, ...)</pre></div></div></div></div></div>"
      ],
      "text/plain": [
       "XGBRegressor(base_score=None, booster=None, callbacks=None,\n",
       "             colsample_bylevel=None, colsample_bynode=None,\n",
       "             colsample_bytree=None, early_stopping_rounds=None,\n",
       "             enable_categorical=False, eval_metric=None, feature_types=None,\n",
       "             gamma=None, gpu_id=None, grow_policy=None, importance_type=None,\n",
       "             interaction_constraints=None, learning_rate=None, max_bin=None,\n",
       "             max_cat_threshold=None, max_cat_to_onehot=None,\n",
       "             max_delta_step=None, max_depth=None, max_leaves=None,\n",
       "             min_child_weight=None, missing=nan, monotone_constraints=None,\n",
       "             n_estimators=100, n_jobs=None, num_parallel_tree=None,\n",
       "             predictor=None, random_state=None, ...)"
      ]
     },
     "execution_count": 68,
     "metadata": {},
     "output_type": "execute_result"
    }
   ],
   "source": [
    "modelXGB.fit(X_train, y_train)"
   ]
  },
  {
   "cell_type": "code",
   "execution_count": 69,
   "id": "4eafd3f0",
   "metadata": {},
   "outputs": [],
   "source": [
    "# 예측\n",
    "train_pred = modelXGB.predict(X_train)\n",
    "valid_pred = modelXGB.predict(X_val)"
   ]
  },
  {
   "cell_type": "code",
   "execution_count": 70,
   "id": "cbfeefd9",
   "metadata": {},
   "outputs": [
    {
     "name": "stdout",
     "output_type": "stream",
     "text": [
      "0.9999904923997674\n",
      "0.34094023988488376\n"
     ]
    }
   ],
   "source": [
    "print(r2_score(y_train, train_pred))\n",
    "print(r2_score(y_val, valid_pred))\n",
    "\n",
    "# 과적합 ㅠ"
   ]
  },
  {
   "cell_type": "code",
   "execution_count": 71,
   "id": "a60226db",
   "metadata": {},
   "outputs": [
    {
     "data": {
      "text/plain": [
       "<Axes: title={'center': 'Feature importance'}, xlabel='F score', ylabel='Features'>"
      ]
     },
     "execution_count": 71,
     "metadata": {},
     "output_type": "execute_result"
    },
    {
     "data": {
      "image/png": "[encoded data removed]",
      "text/plain": [
       "<Figure size 1000x1200 with 1 Axes>"
      ]
     },
     "metadata": {},
     "output_type": "display_data"
    }
   ],
   "source": [
    "# 모델을 예측할 때 X1~X10이 사용된 빈도/정도\n",
    "%matplotlib inline\n",
    "\n",
    "fig, ax = plt.subplots(figsize=(10, 12))\n",
    "plot_importance(modelXGB, ax=ax)"
   ]
  },
  {
   "cell_type": "markdown",
   "id": "dd268153",
   "metadata": {},
   "source": [
    "# SHAP value"
   ]
  },
  {
   "cell_type": "code",
   "execution_count": 72,
   "id": "4acee048",
   "metadata": {},
   "outputs": [],
   "source": [
    "import shap\n",
    "from shap import TreeExplainer, Explanation\n",
    "from shap.plots import waterfall"
   ]
  },
  {
   "cell_type": "code",
   "execution_count": 73,
   "id": "65f1d6b8",
   "metadata": {},
   "outputs": [],
   "source": [
    "explainer1 = shap.Explainer(modelXGB, X_val)\n",
    "shap_values1 = explainer1(X_val)"
   ]
  },
  {
   "cell_type": "code",
   "execution_count": 74,
   "id": "abf16fa0",
   "metadata": {},
   "outputs": [
    {
     "name": "stderr",
     "output_type": "stream",
     "text": [
      "Glyph 8722 (\\N{MINUS SIGN}) missing from current font.\n",
      "Glyph 8722 (\\N{MINUS SIGN}) missing from current font.\n"
     ]
    },
    {
     "data": {
      "image/png": "[encoded data removed]",
      "text/plain": [
       "<Figure size 800x650 with 3 Axes>"
      ]
     },
     "metadata": {},
     "output_type": "display_data"
    }
   ],
   "source": [
    "shap.plots.waterfall(shap_values1[1])"
   ]
  },
  {
   "cell_type": "markdown",
   "id": "50e59b85",
   "metadata": {},
   "source": [
    "다중 선형 회귀, SHAP Value의 결과를 볼 때 음수라고 안좋은 게 아니라 음의 양만큼 변동성에 영향을 끼친다고 보면 된다.  \n",
    "XGBoost는 빈도수이기 때문에 음수가 없다."
   ]
  }
 ],
 "metadata": {
  "kernelspec": {
   "display_name": "Python 3 (ipykernel)",
   "language": "python",
   "name": "python3"
  },
  "language_info": {
   "codemirror_mode": {
    "name": "ipython",
    "version": 3
   },
   "file_extension": ".py",
   "mimetype": "text/x-python",
   "name": "python",
   "nbconvert_exporter": "python",
   "pygments_lexer": "ipython3",
   "version": "3.10.9"
  }
 },
 "nbformat": 4,
 "nbformat_minor": 5
}

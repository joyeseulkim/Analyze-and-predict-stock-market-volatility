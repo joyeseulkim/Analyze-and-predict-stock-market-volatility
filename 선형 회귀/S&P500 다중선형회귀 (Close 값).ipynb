{
 "cells": [
  {
   "cell_type": "markdown",
   "id": "6e9b7a46",
   "metadata": {},
   "source": [
    "# 데이터 불러오기"
   ]
  },
  {
   "cell_type": "code",
   "execution_count": 1,
   "id": "8783b861",
   "metadata": {},
   "outputs": [],
   "source": [
    "import pandas as pd\n",
    "import matplotlib as mpl\n",
    "import matplotlib.pyplot as plt\n",
    "\n",
    "mpl.rc('font', family='Malgun Gothic')\n",
    "mpl.rcParams['axes.unicode_minus'] = False"
   ]
  },
  {
   "cell_type": "markdown",
   "id": "622f1f59",
   "metadata": {},
   "source": [
    "## y: SPY_2011_22"
   ]
  },
  {
   "cell_type": "code",
   "execution_count": 2,
   "id": "ac4aeeb0",
   "metadata": {},
   "outputs": [],
   "source": [
    "spy = pd.read_csv(\"C:/Users/82105/Desktop/hello/Data/SPY/SPY_2011_22.csv\")"
   ]
  },
  {
   "cell_type": "code",
   "execution_count": 3,
   "id": "602409c1",
   "metadata": {},
   "outputs": [],
   "source": [
    "# Date를 datetime 형태로 변경\n",
    "spy['Date'] = pd.to_datetime(spy['Date'])"
   ]
  },
  {
   "cell_type": "code",
   "execution_count": 4,
   "id": "7b4d195c",
   "metadata": {},
   "outputs": [],
   "source": [
    "y = spy.set_index('Date')  # 월 평균을 구하기 위해 Date를 인텍스로 설정\n",
    "y = y['Close'].resample('1m').mean()  # 월 평균 종가"
   ]
  },
  {
   "cell_type": "markdown",
   "id": "119fe4d6",
   "metadata": {},
   "source": [
    "## X1: WTI유"
   ]
  },
  {
   "cell_type": "code",
   "execution_count": 5,
   "id": "b2e83455",
   "metadata": {},
   "outputs": [],
   "source": [
    "oil = pd.read_csv(\"C:/Users/82105/Desktop/hello/Data/SPY/WTI유.csv\")"
   ]
  },
  {
   "cell_type": "code",
   "execution_count": 6,
   "id": "f58c1b27",
   "metadata": {},
   "outputs": [],
   "source": [
    "oil = oil[['날짜', '종가']]\n",
    "oil['날짜'] = pd.to_datetime(oil['날짜'])"
   ]
  },
  {
   "cell_type": "code",
   "execution_count": 7,
   "id": "badb40c7",
   "metadata": {},
   "outputs": [],
   "source": [
    "oil = oil.sort_values(by='날짜', ascending=True)"
   ]
  },
  {
   "cell_type": "code",
   "execution_count": 8,
   "id": "cba1769a",
   "metadata": {},
   "outputs": [],
   "source": [
    "X_oil = oil.set_index('날짜')\n",
    "X_oil = X_oil['종가'].resample('1m').mean()\n",
    "X_oil = X_oil.reset_index()\n",
    "X_oil = X_oil.rename(columns={'날짜':'Date', '종가':'WTI유가'})"
   ]
  },
  {
   "cell_type": "markdown",
   "id": "4c7f1419",
   "metadata": {},
   "source": [
    "## X2: 금 선물"
   ]
  },
  {
   "cell_type": "code",
   "execution_count": 9,
   "id": "f3fa9d90",
   "metadata": {},
   "outputs": [],
   "source": [
    "gold = pd.read_csv(\"C:/Users/82105/Desktop/hello/Data/금 선물.csv\")"
   ]
  },
  {
   "cell_type": "code",
   "execution_count": 10,
   "id": "b13edae0",
   "metadata": {},
   "outputs": [],
   "source": [
    "# 종가의 천단위를 표시하는 , 삭제\n",
    "# float으로 변환 (문자형->숫자형)\n",
    "gold['종가'] = gold['종가'].str.replace(',', '').astype('float')"
   ]
  },
  {
   "cell_type": "code",
   "execution_count": 11,
   "id": "d787b000",
   "metadata": {},
   "outputs": [],
   "source": [
    "gold['날짜'] = pd.to_datetime(gold['날짜'])"
   ]
  },
  {
   "cell_type": "code",
   "execution_count": 12,
   "id": "f23e099c",
   "metadata": {},
   "outputs": [],
   "source": [
    "gold = gold[['날짜', '종가']]"
   ]
  },
  {
   "cell_type": "code",
   "execution_count": 13,
   "id": "d601a2f3",
   "metadata": {},
   "outputs": [],
   "source": [
    "gold = gold.sort_values(by = '날짜', ascending=True).reset_index(drop=True)"
   ]
  },
  {
   "cell_type": "code",
   "execution_count": 14,
   "id": "3ed82ca7",
   "metadata": {},
   "outputs": [],
   "source": [
    "X_gold = gold.set_index('날짜')\n",
    "X_gold = X_gold['종가'].resample('1m').mean()   # 월 평균 유가\n",
    "X_gold = X_gold.reset_index()"
   ]
  },
  {
   "cell_type": "code",
   "execution_count": 15,
   "id": "33f1eea2",
   "metadata": {},
   "outputs": [],
   "source": [
    "X_gold = X_gold.rename(columns={'날짜':'Date', '종가':'금값'})"
   ]
  },
  {
   "cell_type": "markdown",
   "id": "4a4c739d",
   "metadata": {},
   "source": [
    "## X3: 미국 GDP"
   ]
  },
  {
   "cell_type": "code",
   "execution_count": 16,
   "id": "fd17ce18",
   "metadata": {},
   "outputs": [],
   "source": [
    "gdp = pd.read_csv(\"C:/Users/82105/Desktop/hello/Data/SPY/미국 GDP_수정.csv\")"
   ]
  },
  {
   "cell_type": "code",
   "execution_count": 17,
   "id": "c2814571",
   "metadata": {},
   "outputs": [],
   "source": [
    "gdp['GDP(%)'] = gdp['GDP(%)'].str.replace('%', '').astype('float')"
   ]
  },
  {
   "cell_type": "code",
   "execution_count": 18,
   "id": "833825d4",
   "metadata": {},
   "outputs": [],
   "source": [
    "gdp['Date'] = pd.to_datetime(gdp['Date'])"
   ]
  },
  {
   "cell_type": "code",
   "execution_count": 19,
   "id": "c5bc1ab1",
   "metadata": {},
   "outputs": [],
   "source": [
    "X_gdp = gdp"
   ]
  },
  {
   "cell_type": "markdown",
   "id": "c4413312",
   "metadata": {},
   "source": [
    "## X4: 미국 생산자물가지수"
   ]
  },
  {
   "cell_type": "code",
   "execution_count": 20,
   "id": "c93746fa",
   "metadata": {},
   "outputs": [],
   "source": [
    "producer = pd.read_csv(\"C:/Users/82105/Desktop/hello/Data/SPY/미국 생산자물가지수_수정.csv\")"
   ]
  },
  {
   "cell_type": "code",
   "execution_count": 21,
   "id": "fd9aaf4f",
   "metadata": {},
   "outputs": [],
   "source": [
    "# Date를 datetime 형태로 변환\n",
    "producer['Date'] = pd.to_datetime(producer['Date'])"
   ]
  },
  {
   "cell_type": "code",
   "execution_count": 22,
   "id": "681f9a02",
   "metadata": {},
   "outputs": [],
   "source": [
    "# 생산자물가지수 데이터의 % 삭제\n",
    "producer['생산자물가지수'] = producer['생산자물가지수'].str.replace('%', '').astype('float')"
   ]
  },
  {
   "cell_type": "code",
   "execution_count": 23,
   "id": "d11719e6",
   "metadata": {},
   "outputs": [],
   "source": [
    "# 생산자물가지수(%)으로 컬럼명 변환\n",
    "producer = producer.rename(columns={'생산자물가지수':'생산자물가지수(%)'})"
   ]
  },
  {
   "cell_type": "code",
   "execution_count": 24,
   "id": "129a1763",
   "metadata": {},
   "outputs": [],
   "source": [
    "X_prod = producer"
   ]
  },
  {
   "cell_type": "markdown",
   "id": "b08d4048",
   "metadata": {},
   "source": [
    "## X5: 미국 소비자물가지수"
   ]
  },
  {
   "cell_type": "code",
   "execution_count": 25,
   "id": "c4dc3d1e",
   "metadata": {},
   "outputs": [],
   "source": [
    "consumer = pd.read_csv(\"C:/Users/82105/Desktop/hello/Data/SPY/미국 소비자물가지수_수정.csv\")"
   ]
  },
  {
   "cell_type": "code",
   "execution_count": 26,
   "id": "cf37e493",
   "metadata": {},
   "outputs": [],
   "source": [
    "consumer['Date'] = pd.to_datetime(consumer['Date'])"
   ]
  },
  {
   "cell_type": "code",
   "execution_count": 27,
   "id": "91017c10",
   "metadata": {},
   "outputs": [],
   "source": [
    "consumer['소비자물가지수'] = consumer['소비자물가지수'].str.replace('%', '').astype('float')"
   ]
  },
  {
   "cell_type": "code",
   "execution_count": 28,
   "id": "37b377fc",
   "metadata": {},
   "outputs": [],
   "source": [
    "consumer = consumer.rename(columns={'소비자물가지수':'소비자물가지수(%)'})"
   ]
  },
  {
   "cell_type": "code",
   "execution_count": 29,
   "id": "ea971b65",
   "metadata": {},
   "outputs": [],
   "source": [
    "X_consumer = consumer"
   ]
  },
  {
   "cell_type": "markdown",
   "id": "2fbecfd1",
   "metadata": {},
   "source": [
    "## X6: 한미 시장금리"
   ]
  },
  {
   "cell_type": "code",
   "execution_count": 30,
   "id": "7312f0ee",
   "metadata": {},
   "outputs": [],
   "source": [
    "interest_rate = pd.read_csv(\"C:/Users/82105/Desktop/hello/Data/한미 시장금리.csv\", encoding='cp949')"
   ]
  },
  {
   "cell_type": "code",
   "execution_count": 31,
   "id": "620d2432",
   "metadata": {},
   "outputs": [],
   "source": [
    "X_interest_rate = interest_rate\n",
    "X_interest_rate['Date'] = pd.to_datetime(X_interest_rate['Date'])"
   ]
  },
  {
   "cell_type": "markdown",
   "id": "0de8c696",
   "metadata": {},
   "source": [
    "## X7: 미국 평균시간당임금"
   ]
  },
  {
   "cell_type": "code",
   "execution_count": 32,
   "id": "cb4e129a",
   "metadata": {},
   "outputs": [],
   "source": [
    "wage = pd.read_csv(\"C:/Users/82105/Desktop/hello/Data/SPY/미국 평균시간당임금_수정.csv\")"
   ]
  },
  {
   "cell_type": "code",
   "execution_count": 33,
   "id": "050281af",
   "metadata": {},
   "outputs": [],
   "source": [
    "wage['Date'] = pd.to_datetime(wage['Date'])"
   ]
  },
  {
   "cell_type": "code",
   "execution_count": 34,
   "id": "4e033584",
   "metadata": {},
   "outputs": [],
   "source": [
    "wage['평균시간당임금'] = wage['평균시간당임금'].str.replace('%', '').astype('float')"
   ]
  },
  {
   "cell_type": "code",
   "execution_count": 35,
   "id": "8a945fc0",
   "metadata": {},
   "outputs": [],
   "source": [
    "wage = wage.rename(columns={'평균시간당임금':'평균시간당임금(%)'})"
   ]
  },
  {
   "cell_type": "code",
   "execution_count": 36,
   "id": "02fadd3f",
   "metadata": {},
   "outputs": [],
   "source": [
    "X_wage = wage"
   ]
  },
  {
   "cell_type": "markdown",
   "id": "64aa0e9d",
   "metadata": {},
   "source": [
    "## X8: SPY 거래량"
   ]
  },
  {
   "cell_type": "code",
   "execution_count": 37,
   "id": "68a461fa",
   "metadata": {},
   "outputs": [],
   "source": [
    "volume = pd.read_csv(\"C:/Users/82105/Desktop/hello/Data/SPY/SPY 거래량.csv\", encoding='cp949')"
   ]
  },
  {
   "cell_type": "code",
   "execution_count": 38,
   "id": "e91798fc",
   "metadata": {},
   "outputs": [],
   "source": [
    "volume['Date'] = pd.to_datetime(volume['Date'])"
   ]
  },
  {
   "cell_type": "code",
   "execution_count": 39,
   "id": "50108bf4",
   "metadata": {},
   "outputs": [],
   "source": [
    "volume = volume.set_index('Date')\n",
    "volume = volume['Volume'].resample('1m').mean()"
   ]
  },
  {
   "cell_type": "code",
   "execution_count": 40,
   "id": "6bd743ad",
   "metadata": {},
   "outputs": [],
   "source": [
    "volume = volume.reset_index()\n",
    "volume = volume.rename(columns={'Volume':'거래량'})"
   ]
  },
  {
   "cell_type": "code",
   "execution_count": 41,
   "id": "7460606b",
   "metadata": {},
   "outputs": [],
   "source": [
    "X_volume = volume"
   ]
  },
  {
   "cell_type": "markdown",
   "id": "2aaaa12b",
   "metadata": {},
   "source": [
    "# 데이터 merge"
   ]
  },
  {
   "cell_type": "code",
   "execution_count": 42,
   "id": "b688b2a1",
   "metadata": {},
   "outputs": [],
   "source": [
    "X = pd.merge(X_gold, X_oil, how='outer', on='Date')\n",
    "X = pd.merge(X, X_gdp, how='outer', on='Date')\n",
    "X = pd.merge(X, X_prod, how='outer', on='Date')\n",
    "X = pd.merge(X, X_consumer, how='outer', on='Date')\n",
    "X = pd.merge(X, X_interest_rate, how='outer', on='Date')\n",
    "X = pd.merge(X, X_wage, how='outer', on='Date')\n",
    "X = pd.merge(X, X_volume, how='outer', on='Date')"
   ]
  },
  {
   "cell_type": "code",
   "execution_count": 43,
   "id": "bbf4e489",
   "metadata": {},
   "outputs": [
    {
     "data": {
      "text/html": [
       "<div>\n",
       "<style scoped>\n",
       "    .dataframe tbody tr th:only-of-type {\n",
       "        vertical-align: middle;\n",
       "    }\n",
       "\n",
       "    .dataframe tbody tr th {\n",
       "        vertical-align: top;\n",
       "    }\n",
       "\n",
       "    .dataframe thead th {\n",
       "        text-align: right;\n",
       "    }\n",
       "</style>\n",
       "<table border=\"1\" class=\"dataframe\">\n",
       "  <thead>\n",
       "    <tr style=\"text-align: right;\">\n",
       "      <th></th>\n",
       "      <th>Date</th>\n",
       "      <th>금값</th>\n",
       "      <th>WTI유가</th>\n",
       "      <th>GDP(%)</th>\n",
       "      <th>생산자물가지수(%)</th>\n",
       "      <th>소비자물가지수(%)</th>\n",
       "      <th>한국_시장금리</th>\n",
       "      <th>미국_시장금리</th>\n",
       "      <th>평균시간당임금(%)</th>\n",
       "      <th>거래량</th>\n",
       "    </tr>\n",
       "  </thead>\n",
       "  <tbody>\n",
       "    <tr>\n",
       "      <th>0</th>\n",
       "      <td>2011-01-31</td>\n",
       "      <td>1362.238095</td>\n",
       "      <td>89.578500</td>\n",
       "      <td>3.2</td>\n",
       "      <td>1.1</td>\n",
       "      <td>1.5</td>\n",
       "      <td>3.09</td>\n",
       "      <td>0.1</td>\n",
       "      <td>0.1</td>\n",
       "      <td>1.430157e+08</td>\n",
       "    </tr>\n",
       "    <tr>\n",
       "      <th>1</th>\n",
       "      <td>2011-02-28</td>\n",
       "      <td>1375.715000</td>\n",
       "      <td>89.743158</td>\n",
       "      <td>2.8</td>\n",
       "      <td>0.8</td>\n",
       "      <td>1.6</td>\n",
       "      <td>NaN</td>\n",
       "      <td>NaN</td>\n",
       "      <td>0.4</td>\n",
       "      <td>1.484249e+08</td>\n",
       "    </tr>\n",
       "    <tr>\n",
       "      <th>2</th>\n",
       "      <td>2011-03-31</td>\n",
       "      <td>1422.939130</td>\n",
       "      <td>102.981304</td>\n",
       "      <td>3.1</td>\n",
       "      <td>1.6</td>\n",
       "      <td>2.1</td>\n",
       "      <td>NaN</td>\n",
       "      <td>NaN</td>\n",
       "      <td>0.0</td>\n",
       "      <td>2.081504e+08</td>\n",
       "    </tr>\n",
       "    <tr>\n",
       "      <th>3</th>\n",
       "      <td>2011-04-30</td>\n",
       "      <td>1482.500000</td>\n",
       "      <td>110.038500</td>\n",
       "      <td>1.8</td>\n",
       "      <td>0.7</td>\n",
       "      <td>2.7</td>\n",
       "      <td>NaN</td>\n",
       "      <td>NaN</td>\n",
       "      <td>0.0</td>\n",
       "      <td>1.406359e+08</td>\n",
       "    </tr>\n",
       "    <tr>\n",
       "      <th>4</th>\n",
       "      <td>2011-05-31</td>\n",
       "      <td>1512.477273</td>\n",
       "      <td>101.356667</td>\n",
       "      <td>1.8</td>\n",
       "      <td>0.8</td>\n",
       "      <td>3.2</td>\n",
       "      <td>NaN</td>\n",
       "      <td>NaN</td>\n",
       "      <td>0.1</td>\n",
       "      <td>1.589337e+08</td>\n",
       "    </tr>\n",
       "    <tr>\n",
       "      <th>...</th>\n",
       "      <td>...</td>\n",
       "      <td>...</td>\n",
       "      <td>...</td>\n",
       "      <td>...</td>\n",
       "      <td>...</td>\n",
       "      <td>...</td>\n",
       "      <td>...</td>\n",
       "      <td>...</td>\n",
       "      <td>...</td>\n",
       "      <td>...</td>\n",
       "    </tr>\n",
       "    <tr>\n",
       "      <th>139</th>\n",
       "      <td>2022-08-31</td>\n",
       "      <td>1778.647826</td>\n",
       "      <td>91.482609</td>\n",
       "      <td>-0.6</td>\n",
       "      <td>-0.5</td>\n",
       "      <td>8.5</td>\n",
       "      <td>NaN</td>\n",
       "      <td>NaN</td>\n",
       "      <td>0.5</td>\n",
       "      <td>6.275628e+07</td>\n",
       "    </tr>\n",
       "    <tr>\n",
       "      <th>140</th>\n",
       "      <td>2022-09-30</td>\n",
       "      <td>1692.076087</td>\n",
       "      <td>84.219565</td>\n",
       "      <td>-0.6</td>\n",
       "      <td>-0.1</td>\n",
       "      <td>8.3</td>\n",
       "      <td>NaN</td>\n",
       "      <td>NaN</td>\n",
       "      <td>0.3</td>\n",
       "      <td>9.518612e+07</td>\n",
       "    </tr>\n",
       "    <tr>\n",
       "      <th>141</th>\n",
       "      <td>2022-10-31</td>\n",
       "      <td>1672.738095</td>\n",
       "      <td>87.030952</td>\n",
       "      <td>2.6</td>\n",
       "      <td>0.4</td>\n",
       "      <td>8.2</td>\n",
       "      <td>NaN</td>\n",
       "      <td>NaN</td>\n",
       "      <td>0.3</td>\n",
       "      <td>9.641581e+07</td>\n",
       "    </tr>\n",
       "    <tr>\n",
       "      <th>142</th>\n",
       "      <td>2022-11-30</td>\n",
       "      <td>1731.109091</td>\n",
       "      <td>84.093636</td>\n",
       "      <td>2.9</td>\n",
       "      <td>0.2</td>\n",
       "      <td>7.7</td>\n",
       "      <td>NaN</td>\n",
       "      <td>NaN</td>\n",
       "      <td>0.4</td>\n",
       "      <td>8.314216e+07</td>\n",
       "    </tr>\n",
       "    <tr>\n",
       "      <th>143</th>\n",
       "      <td>2022-12-31</td>\n",
       "      <td>1807.818182</td>\n",
       "      <td>76.910833</td>\n",
       "      <td>3.2</td>\n",
       "      <td>0.3</td>\n",
       "      <td>7.1</td>\n",
       "      <td>NaN</td>\n",
       "      <td>NaN</td>\n",
       "      <td>0.6</td>\n",
       "      <td>8.266541e+07</td>\n",
       "    </tr>\n",
       "  </tbody>\n",
       "</table>\n",
       "<p>144 rows × 10 columns</p>\n",
       "</div>"
      ],
      "text/plain": [
       "          Date           금값       WTI유가  GDP(%)  생산자물가지수(%)  소비자물가지수(%)  \\\n",
       "0   2011-01-31  1362.238095   89.578500     3.2         1.1         1.5   \n",
       "1   2011-02-28  1375.715000   89.743158     2.8         0.8         1.6   \n",
       "2   2011-03-31  1422.939130  102.981304     3.1         1.6         2.1   \n",
       "3   2011-04-30  1482.500000  110.038500     1.8         0.7         2.7   \n",
       "4   2011-05-31  1512.477273  101.356667     1.8         0.8         3.2   \n",
       "..         ...          ...         ...     ...         ...         ...   \n",
       "139 2022-08-31  1778.647826   91.482609    -0.6        -0.5         8.5   \n",
       "140 2022-09-30  1692.076087   84.219565    -0.6        -0.1         8.3   \n",
       "141 2022-10-31  1672.738095   87.030952     2.6         0.4         8.2   \n",
       "142 2022-11-30  1731.109091   84.093636     2.9         0.2         7.7   \n",
       "143 2022-12-31  1807.818182   76.910833     3.2         0.3         7.1   \n",
       "\n",
       "     한국_시장금리  미국_시장금리  평균시간당임금(%)           거래량  \n",
       "0       3.09      0.1         0.1  1.430157e+08  \n",
       "1        NaN      NaN         0.4  1.484249e+08  \n",
       "2        NaN      NaN         0.0  2.081504e+08  \n",
       "3        NaN      NaN         0.0  1.406359e+08  \n",
       "4        NaN      NaN         0.1  1.589337e+08  \n",
       "..       ...      ...         ...           ...  \n",
       "139      NaN      NaN         0.5  6.275628e+07  \n",
       "140      NaN      NaN         0.3  9.518612e+07  \n",
       "141      NaN      NaN         0.3  9.641581e+07  \n",
       "142      NaN      NaN         0.4  8.314216e+07  \n",
       "143      NaN      NaN         0.6  8.266541e+07  \n",
       "\n",
       "[144 rows x 10 columns]"
      ]
     },
     "execution_count": 43,
     "metadata": {},
     "output_type": "execute_result"
    }
   ],
   "source": [
    "X"
   ]
  },
  {
   "cell_type": "markdown",
   "id": "a94a5fcd",
   "metadata": {},
   "source": [
    "# 최종 df"
   ]
  },
  {
   "cell_type": "code",
   "execution_count": 44,
   "id": "10237ec6",
   "metadata": {},
   "outputs": [],
   "source": [
    "X.to_csv(\"C:/Users/82105/Desktop/hello/Data/SPY/SPY 다중선형회귀 df.csv\", encoding='utf-8-sig')"
   ]
  },
  {
   "cell_type": "markdown",
   "id": "409a199f",
   "metadata": {},
   "source": [
    "# 다중선형회귀"
   ]
  },
  {
   "cell_type": "code",
   "execution_count": 45,
   "id": "9c57af44",
   "metadata": {},
   "outputs": [],
   "source": [
    "df = pd.read_csv('C:/Users/82105/Desktop/hello/Data/SPY/SPY 다중선형회귀 df.csv')"
   ]
  },
  {
   "cell_type": "code",
   "execution_count": 46,
   "id": "641ee6b5",
   "metadata": {},
   "outputs": [],
   "source": [
    "# Unnamed 컬럼 삭제\n",
    "df = df.iloc[:, 1:]"
   ]
  },
  {
   "cell_type": "code",
   "execution_count": 47,
   "id": "a20b5c0d",
   "metadata": {},
   "outputs": [
    {
     "data": {
      "text/plain": [
       "Index(['Date', '금값', 'WTI유가', 'GDP(%)', '생산자물가지수(%)', '소비자물가지수(%)', '한국_시장금리',\n",
       "       '미국_시장금리', '평균시간당임금(%)', '거래량'],\n",
       "      dtype='object')"
      ]
     },
     "execution_count": 47,
     "metadata": {},
     "output_type": "execute_result"
    }
   ],
   "source": [
    "df.columns"
   ]
  },
  {
   "cell_type": "markdown",
   "id": "7351f75b",
   "metadata": {},
   "source": [
    "# NaN값 채우기: KNNImputer()"
   ]
  },
  {
   "cell_type": "code",
   "execution_count": 48,
   "id": "781b8f6f",
   "metadata": {},
   "outputs": [],
   "source": [
    "from sklearn.impute import KNNImputer"
   ]
  },
  {
   "cell_type": "code",
   "execution_count": 49,
   "id": "e8399b37",
   "metadata": {},
   "outputs": [],
   "source": [
    "# Date 컬럼을 뺀 실제 X들만 가져오기\n",
    "df1 = df[['금값', 'WTI유가', 'GDP(%)', '생산자물가지수(%)', '소비자물가지수(%)', '한국_시장금리',\n",
    "       '미국_시장금리', '평균시간당임금(%)', '거래량']]"
   ]
  },
  {
   "cell_type": "code",
   "execution_count": 50,
   "id": "1c63d530",
   "metadata": {},
   "outputs": [
    {
     "data": {
      "text/html": [
       "<div>\n",
       "<style scoped>\n",
       "    .dataframe tbody tr th:only-of-type {\n",
       "        vertical-align: middle;\n",
       "    }\n",
       "\n",
       "    .dataframe tbody tr th {\n",
       "        vertical-align: top;\n",
       "    }\n",
       "\n",
       "    .dataframe thead th {\n",
       "        text-align: right;\n",
       "    }\n",
       "</style>\n",
       "<table border=\"1\" class=\"dataframe\">\n",
       "  <thead>\n",
       "    <tr style=\"text-align: right;\">\n",
       "      <th></th>\n",
       "      <th>금값</th>\n",
       "      <th>WTI유가</th>\n",
       "      <th>GDP(%)</th>\n",
       "      <th>생산자물가지수(%)</th>\n",
       "      <th>소비자물가지수(%)</th>\n",
       "      <th>한국_시장금리</th>\n",
       "      <th>미국_시장금리</th>\n",
       "      <th>평균시간당임금(%)</th>\n",
       "      <th>거래량</th>\n",
       "    </tr>\n",
       "  </thead>\n",
       "  <tbody>\n",
       "    <tr>\n",
       "      <th>0</th>\n",
       "      <td>1362.238095</td>\n",
       "      <td>89.578500</td>\n",
       "      <td>3.2</td>\n",
       "      <td>1.1</td>\n",
       "      <td>1.5</td>\n",
       "      <td>3.09</td>\n",
       "      <td>0.1</td>\n",
       "      <td>0.1</td>\n",
       "      <td>1.430157e+08</td>\n",
       "    </tr>\n",
       "    <tr>\n",
       "      <th>1</th>\n",
       "      <td>1375.715000</td>\n",
       "      <td>89.743158</td>\n",
       "      <td>2.8</td>\n",
       "      <td>0.8</td>\n",
       "      <td>1.6</td>\n",
       "      <td>NaN</td>\n",
       "      <td>NaN</td>\n",
       "      <td>0.4</td>\n",
       "      <td>1.484249e+08</td>\n",
       "    </tr>\n",
       "    <tr>\n",
       "      <th>2</th>\n",
       "      <td>1422.939130</td>\n",
       "      <td>102.981304</td>\n",
       "      <td>3.1</td>\n",
       "      <td>1.6</td>\n",
       "      <td>2.1</td>\n",
       "      <td>NaN</td>\n",
       "      <td>NaN</td>\n",
       "      <td>0.0</td>\n",
       "      <td>2.081504e+08</td>\n",
       "    </tr>\n",
       "    <tr>\n",
       "      <th>3</th>\n",
       "      <td>1482.500000</td>\n",
       "      <td>110.038500</td>\n",
       "      <td>1.8</td>\n",
       "      <td>0.7</td>\n",
       "      <td>2.7</td>\n",
       "      <td>NaN</td>\n",
       "      <td>NaN</td>\n",
       "      <td>0.0</td>\n",
       "      <td>1.406359e+08</td>\n",
       "    </tr>\n",
       "    <tr>\n",
       "      <th>4</th>\n",
       "      <td>1512.477273</td>\n",
       "      <td>101.356667</td>\n",
       "      <td>1.8</td>\n",
       "      <td>0.8</td>\n",
       "      <td>3.2</td>\n",
       "      <td>NaN</td>\n",
       "      <td>NaN</td>\n",
       "      <td>0.1</td>\n",
       "      <td>1.589337e+08</td>\n",
       "    </tr>\n",
       "    <tr>\n",
       "      <th>...</th>\n",
       "      <td>...</td>\n",
       "      <td>...</td>\n",
       "      <td>...</td>\n",
       "      <td>...</td>\n",
       "      <td>...</td>\n",
       "      <td>...</td>\n",
       "      <td>...</td>\n",
       "      <td>...</td>\n",
       "      <td>...</td>\n",
       "    </tr>\n",
       "    <tr>\n",
       "      <th>139</th>\n",
       "      <td>1778.647826</td>\n",
       "      <td>91.482609</td>\n",
       "      <td>-0.6</td>\n",
       "      <td>-0.5</td>\n",
       "      <td>8.5</td>\n",
       "      <td>NaN</td>\n",
       "      <td>NaN</td>\n",
       "      <td>0.5</td>\n",
       "      <td>6.275628e+07</td>\n",
       "    </tr>\n",
       "    <tr>\n",
       "      <th>140</th>\n",
       "      <td>1692.076087</td>\n",
       "      <td>84.219565</td>\n",
       "      <td>-0.6</td>\n",
       "      <td>-0.1</td>\n",
       "      <td>8.3</td>\n",
       "      <td>NaN</td>\n",
       "      <td>NaN</td>\n",
       "      <td>0.3</td>\n",
       "      <td>9.518612e+07</td>\n",
       "    </tr>\n",
       "    <tr>\n",
       "      <th>141</th>\n",
       "      <td>1672.738095</td>\n",
       "      <td>87.030952</td>\n",
       "      <td>2.6</td>\n",
       "      <td>0.4</td>\n",
       "      <td>8.2</td>\n",
       "      <td>NaN</td>\n",
       "      <td>NaN</td>\n",
       "      <td>0.3</td>\n",
       "      <td>9.641581e+07</td>\n",
       "    </tr>\n",
       "    <tr>\n",
       "      <th>142</th>\n",
       "      <td>1731.109091</td>\n",
       "      <td>84.093636</td>\n",
       "      <td>2.9</td>\n",
       "      <td>0.2</td>\n",
       "      <td>7.7</td>\n",
       "      <td>NaN</td>\n",
       "      <td>NaN</td>\n",
       "      <td>0.4</td>\n",
       "      <td>8.314216e+07</td>\n",
       "    </tr>\n",
       "    <tr>\n",
       "      <th>143</th>\n",
       "      <td>1807.818182</td>\n",
       "      <td>76.910833</td>\n",
       "      <td>3.2</td>\n",
       "      <td>0.3</td>\n",
       "      <td>7.1</td>\n",
       "      <td>NaN</td>\n",
       "      <td>NaN</td>\n",
       "      <td>0.6</td>\n",
       "      <td>8.266541e+07</td>\n",
       "    </tr>\n",
       "  </tbody>\n",
       "</table>\n",
       "<p>144 rows × 9 columns</p>\n",
       "</div>"
      ],
      "text/plain": [
       "              금값       WTI유가  GDP(%)  생산자물가지수(%)  소비자물가지수(%)  한국_시장금리  \\\n",
       "0    1362.238095   89.578500     3.2         1.1         1.5     3.09   \n",
       "1    1375.715000   89.743158     2.8         0.8         1.6      NaN   \n",
       "2    1422.939130  102.981304     3.1         1.6         2.1      NaN   \n",
       "3    1482.500000  110.038500     1.8         0.7         2.7      NaN   \n",
       "4    1512.477273  101.356667     1.8         0.8         3.2      NaN   \n",
       "..           ...         ...     ...         ...         ...      ...   \n",
       "139  1778.647826   91.482609    -0.6        -0.5         8.5      NaN   \n",
       "140  1692.076087   84.219565    -0.6        -0.1         8.3      NaN   \n",
       "141  1672.738095   87.030952     2.6         0.4         8.2      NaN   \n",
       "142  1731.109091   84.093636     2.9         0.2         7.7      NaN   \n",
       "143  1807.818182   76.910833     3.2         0.3         7.1      NaN   \n",
       "\n",
       "     미국_시장금리  평균시간당임금(%)           거래량  \n",
       "0        0.1         0.1  1.430157e+08  \n",
       "1        NaN         0.4  1.484249e+08  \n",
       "2        NaN         0.0  2.081504e+08  \n",
       "3        NaN         0.0  1.406359e+08  \n",
       "4        NaN         0.1  1.589337e+08  \n",
       "..       ...         ...           ...  \n",
       "139      NaN         0.5  6.275628e+07  \n",
       "140      NaN         0.3  9.518612e+07  \n",
       "141      NaN         0.3  9.641581e+07  \n",
       "142      NaN         0.4  8.314216e+07  \n",
       "143      NaN         0.6  8.266541e+07  \n",
       "\n",
       "[144 rows x 9 columns]"
      ]
     },
     "execution_count": 50,
     "metadata": {},
     "output_type": "execute_result"
    }
   ],
   "source": [
    "df1"
   ]
  },
  {
   "cell_type": "code",
   "execution_count": 51,
   "id": "6f9a8436",
   "metadata": {},
   "outputs": [
    {
     "name": "stderr",
     "output_type": "stream",
     "text": [
      "C:\\Users\\82105\\AppData\\Local\\Temp\\ipykernel_13664\\1934945154.py:2: SettingWithCopyWarning: \n",
      "A value is trying to be set on a copy of a slice from a DataFrame.\n",
      "Try using .loc[row_indexer,col_indexer] = value instead\n",
      "\n",
      "See the caveats in the documentation: https://pandas.pydata.org/pandas-docs/stable/user_guide/indexing.html#returning-a-view-versus-a-copy\n",
      "  df1[['금값', 'WTI유가', 'GDP(%)', '생산자물가지수(%)', '소비자물가지수(%)', '한국_시장금리',\n"
     ]
    }
   ],
   "source": [
    "imputer = KNNImputer()\n",
    "df1[['금값', 'WTI유가', 'GDP(%)', '생산자물가지수(%)', '소비자물가지수(%)', '한국_시장금리',\n",
    "       '미국_시장금리', '평균시간당임금(%)', '거래량']] = imputer.fit_transform(df1[['금값', 'WTI유가', 'GDP(%)', '생산자물가지수(%)', '소비자물가지수(%)', '한국_시장금리',\n",
    "       '미국_시장금리', '평균시간당임금(%)', '거래량']])"
   ]
  },
  {
   "cell_type": "code",
   "execution_count": 52,
   "id": "3bc36f13",
   "metadata": {},
   "outputs": [
    {
     "name": "stdout",
     "output_type": "stream",
     "text": [
      "<class 'pandas.core.frame.DataFrame'>\n",
      "RangeIndex: 144 entries, 0 to 143\n",
      "Data columns (total 9 columns):\n",
      " #   Column      Non-Null Count  Dtype  \n",
      "---  ------      --------------  -----  \n",
      " 0   금값          144 non-null    float64\n",
      " 1   WTI유가       144 non-null    float64\n",
      " 2   GDP(%)      144 non-null    float64\n",
      " 3   생산자물가지수(%)  144 non-null    float64\n",
      " 4   소비자물가지수(%)  144 non-null    float64\n",
      " 5   한국_시장금리     144 non-null    float64\n",
      " 6   미국_시장금리     144 non-null    float64\n",
      " 7   평균시간당임금(%)  144 non-null    float64\n",
      " 8   거래량         144 non-null    float64\n",
      "dtypes: float64(9)\n",
      "memory usage: 10.2 KB\n"
     ]
    }
   ],
   "source": [
    "df1.info()"
   ]
  },
  {
   "cell_type": "code",
   "execution_count": 53,
   "id": "b133e7fb",
   "metadata": {},
   "outputs": [
    {
     "data": {
      "text/html": [
       "<div>\n",
       "<style scoped>\n",
       "    .dataframe tbody tr th:only-of-type {\n",
       "        vertical-align: middle;\n",
       "    }\n",
       "\n",
       "    .dataframe tbody tr th {\n",
       "        vertical-align: top;\n",
       "    }\n",
       "\n",
       "    .dataframe thead th {\n",
       "        text-align: right;\n",
       "    }\n",
       "</style>\n",
       "<table border=\"1\" class=\"dataframe\">\n",
       "  <thead>\n",
       "    <tr style=\"text-align: right;\">\n",
       "      <th></th>\n",
       "      <th>금값</th>\n",
       "      <th>WTI유가</th>\n",
       "      <th>GDP(%)</th>\n",
       "      <th>생산자물가지수(%)</th>\n",
       "      <th>소비자물가지수(%)</th>\n",
       "      <th>한국_시장금리</th>\n",
       "      <th>미국_시장금리</th>\n",
       "      <th>평균시간당임금(%)</th>\n",
       "      <th>거래량</th>\n",
       "    </tr>\n",
       "  </thead>\n",
       "  <tbody>\n",
       "    <tr>\n",
       "      <th>0</th>\n",
       "      <td>1362.238095</td>\n",
       "      <td>89.578500</td>\n",
       "      <td>3.2</td>\n",
       "      <td>1.1</td>\n",
       "      <td>1.5</td>\n",
       "      <td>3.090</td>\n",
       "      <td>0.100</td>\n",
       "      <td>0.1</td>\n",
       "      <td>1.430157e+08</td>\n",
       "    </tr>\n",
       "    <tr>\n",
       "      <th>1</th>\n",
       "      <td>1375.715000</td>\n",
       "      <td>89.743158</td>\n",
       "      <td>2.8</td>\n",
       "      <td>0.8</td>\n",
       "      <td>1.6</td>\n",
       "      <td>2.550</td>\n",
       "      <td>0.114</td>\n",
       "      <td>0.4</td>\n",
       "      <td>1.484249e+08</td>\n",
       "    </tr>\n",
       "    <tr>\n",
       "      <th>2</th>\n",
       "      <td>1422.939130</td>\n",
       "      <td>102.981304</td>\n",
       "      <td>3.1</td>\n",
       "      <td>1.6</td>\n",
       "      <td>2.1</td>\n",
       "      <td>2.350</td>\n",
       "      <td>0.176</td>\n",
       "      <td>0.0</td>\n",
       "      <td>2.081504e+08</td>\n",
       "    </tr>\n",
       "    <tr>\n",
       "      <th>3</th>\n",
       "      <td>1482.500000</td>\n",
       "      <td>110.038500</td>\n",
       "      <td>1.8</td>\n",
       "      <td>0.7</td>\n",
       "      <td>2.7</td>\n",
       "      <td>2.550</td>\n",
       "      <td>0.114</td>\n",
       "      <td>0.0</td>\n",
       "      <td>1.406359e+08</td>\n",
       "    </tr>\n",
       "    <tr>\n",
       "      <th>4</th>\n",
       "      <td>1512.477273</td>\n",
       "      <td>101.356667</td>\n",
       "      <td>1.8</td>\n",
       "      <td>0.8</td>\n",
       "      <td>3.2</td>\n",
       "      <td>2.350</td>\n",
       "      <td>0.176</td>\n",
       "      <td>0.1</td>\n",
       "      <td>1.589337e+08</td>\n",
       "    </tr>\n",
       "    <tr>\n",
       "      <th>...</th>\n",
       "      <td>...</td>\n",
       "      <td>...</td>\n",
       "      <td>...</td>\n",
       "      <td>...</td>\n",
       "      <td>...</td>\n",
       "      <td>...</td>\n",
       "      <td>...</td>\n",
       "      <td>...</td>\n",
       "      <td>...</td>\n",
       "    </tr>\n",
       "    <tr>\n",
       "      <th>139</th>\n",
       "      <td>1778.647826</td>\n",
       "      <td>91.482609</td>\n",
       "      <td>-0.6</td>\n",
       "      <td>-0.5</td>\n",
       "      <td>8.5</td>\n",
       "      <td>1.136</td>\n",
       "      <td>1.090</td>\n",
       "      <td>0.5</td>\n",
       "      <td>6.275628e+07</td>\n",
       "    </tr>\n",
       "    <tr>\n",
       "      <th>140</th>\n",
       "      <td>1692.076087</td>\n",
       "      <td>84.219565</td>\n",
       "      <td>-0.6</td>\n",
       "      <td>-0.1</td>\n",
       "      <td>8.3</td>\n",
       "      <td>1.464</td>\n",
       "      <td>1.032</td>\n",
       "      <td>0.3</td>\n",
       "      <td>9.518612e+07</td>\n",
       "    </tr>\n",
       "    <tr>\n",
       "      <th>141</th>\n",
       "      <td>1672.738095</td>\n",
       "      <td>87.030952</td>\n",
       "      <td>2.6</td>\n",
       "      <td>0.4</td>\n",
       "      <td>8.2</td>\n",
       "      <td>1.464</td>\n",
       "      <td>1.032</td>\n",
       "      <td>0.3</td>\n",
       "      <td>9.641581e+07</td>\n",
       "    </tr>\n",
       "    <tr>\n",
       "      <th>142</th>\n",
       "      <td>1731.109091</td>\n",
       "      <td>84.093636</td>\n",
       "      <td>2.9</td>\n",
       "      <td>0.2</td>\n",
       "      <td>7.7</td>\n",
       "      <td>1.136</td>\n",
       "      <td>1.090</td>\n",
       "      <td>0.4</td>\n",
       "      <td>8.314216e+07</td>\n",
       "    </tr>\n",
       "    <tr>\n",
       "      <th>143</th>\n",
       "      <td>1807.818182</td>\n",
       "      <td>76.910833</td>\n",
       "      <td>3.2</td>\n",
       "      <td>0.3</td>\n",
       "      <td>7.1</td>\n",
       "      <td>1.136</td>\n",
       "      <td>1.090</td>\n",
       "      <td>0.6</td>\n",
       "      <td>8.266541e+07</td>\n",
       "    </tr>\n",
       "  </tbody>\n",
       "</table>\n",
       "<p>144 rows × 9 columns</p>\n",
       "</div>"
      ],
      "text/plain": [
       "              금값       WTI유가  GDP(%)  생산자물가지수(%)  소비자물가지수(%)  한국_시장금리  \\\n",
       "0    1362.238095   89.578500     3.2         1.1         1.5    3.090   \n",
       "1    1375.715000   89.743158     2.8         0.8         1.6    2.550   \n",
       "2    1422.939130  102.981304     3.1         1.6         2.1    2.350   \n",
       "3    1482.500000  110.038500     1.8         0.7         2.7    2.550   \n",
       "4    1512.477273  101.356667     1.8         0.8         3.2    2.350   \n",
       "..           ...         ...     ...         ...         ...      ...   \n",
       "139  1778.647826   91.482609    -0.6        -0.5         8.5    1.136   \n",
       "140  1692.076087   84.219565    -0.6        -0.1         8.3    1.464   \n",
       "141  1672.738095   87.030952     2.6         0.4         8.2    1.464   \n",
       "142  1731.109091   84.093636     2.9         0.2         7.7    1.136   \n",
       "143  1807.818182   76.910833     3.2         0.3         7.1    1.136   \n",
       "\n",
       "     미국_시장금리  평균시간당임금(%)           거래량  \n",
       "0      0.100         0.1  1.430157e+08  \n",
       "1      0.114         0.4  1.484249e+08  \n",
       "2      0.176         0.0  2.081504e+08  \n",
       "3      0.114         0.0  1.406359e+08  \n",
       "4      0.176         0.1  1.589337e+08  \n",
       "..       ...         ...           ...  \n",
       "139    1.090         0.5  6.275628e+07  \n",
       "140    1.032         0.3  9.518612e+07  \n",
       "141    1.032         0.3  9.641581e+07  \n",
       "142    1.090         0.4  8.314216e+07  \n",
       "143    1.090         0.6  8.266541e+07  \n",
       "\n",
       "[144 rows x 9 columns]"
      ]
     },
     "execution_count": 53,
     "metadata": {},
     "output_type": "execute_result"
    }
   ],
   "source": [
    "df1  # NaN값 채워진 거 확인하기"
   ]
  },
  {
   "cell_type": "markdown",
   "id": "b9d274b0",
   "metadata": {},
   "source": [
    "## train, validation 데이터 나누기"
   ]
  },
  {
   "cell_type": "code",
   "execution_count": 54,
   "id": "18b00160",
   "metadata": {},
   "outputs": [],
   "source": [
    "from sklearn.model_selection import train_test_split"
   ]
  },
  {
   "cell_type": "code",
   "execution_count": 55,
   "id": "60a60d2c",
   "metadata": {},
   "outputs": [],
   "source": [
    "X_train, X_val, y_train, y_val = train_test_split(df1, y, random_state=42, test_size=0.2)"
   ]
  },
  {
   "cell_type": "markdown",
   "id": "dd70e33b",
   "metadata": {},
   "source": [
    "## Scaling"
   ]
  },
  {
   "cell_type": "code",
   "execution_count": 56,
   "id": "f7569989",
   "metadata": {},
   "outputs": [],
   "source": [
    "from sklearn.preprocessing import StandardScaler"
   ]
  },
  {
   "cell_type": "code",
   "execution_count": 57,
   "id": "7a2aaa4e",
   "metadata": {},
   "outputs": [],
   "source": [
    "scaler = StandardScaler()\n",
    "scaler.fit(X_train)\n",
    "X_train[['금값', 'WTI유가', 'GDP(%)', '생산자물가지수(%)', '소비자물가지수(%)', '한국_시장금리',\n",
    "       '미국_시장금리', '평균시간당임금(%)', '거래량']] = scaler.transform(X_train[['금값', 'WTI유가', 'GDP(%)', '생산자물가지수(%)', '소비자물가지수(%)', '한국_시장금리',\n",
    "       '미국_시장금리', '평균시간당임금(%)', '거래량']])\n",
    "X_val[['금값', 'WTI유가', 'GDP(%)', '생산자물가지수(%)', '소비자물가지수(%)', '한국_시장금리',\n",
    "       '미국_시장금리', '평균시간당임금(%)', '거래량']] = scaler.transform(X_val[['금값', 'WTI유가', 'GDP(%)', '생산자물가지수(%)', '소비자물가지수(%)', '한국_시장금리',\n",
    "       '미국_시장금리', '평균시간당임금(%)', '거래량']])"
   ]
  },
  {
   "cell_type": "markdown",
   "id": "813c8e9b",
   "metadata": {},
   "source": [
    "## 다중선형회귀  \n",
    "X1~X10이 y에게 영향을 끼치는 정도"
   ]
  },
  {
   "cell_type": "code",
   "execution_count": 58,
   "id": "88631e43",
   "metadata": {},
   "outputs": [],
   "source": [
    "from sklearn.linear_model import LinearRegression"
   ]
  },
  {
   "cell_type": "code",
   "execution_count": 59,
   "id": "e8ab1a6e",
   "metadata": {},
   "outputs": [],
   "source": [
    "linear = LinearRegression()"
   ]
  },
  {
   "cell_type": "code",
   "execution_count": 60,
   "id": "2f10172e",
   "metadata": {},
   "outputs": [
    {
     "data": {
      "text/html": [
       "<style>#sk-container-id-1 {color: black;background-color: white;}#sk-container-id-1 pre{padding: 0;}#sk-container-id-1 div.sk-toggleable {background-color: white;}#sk-container-id-1 label.sk-toggleable__label {cursor: pointer;display: block;width: 100%;margin-bottom: 0;padding: 0.3em;box-sizing: border-box;text-align: center;}#sk-container-id-1 label.sk-toggleable__label-arrow:before {content: \"▸\";float: left;margin-right: 0.25em;color: #696969;}#sk-container-id-1 label.sk-toggleable__label-arrow:hover:before {color: black;}#sk-container-id-1 div.sk-estimator:hover label.sk-toggleable__label-arrow:before {color: black;}#sk-container-id-1 div.sk-toggleable__content {max-height: 0;max-width: 0;overflow: hidden;text-align: left;background-color: #f0f8ff;}#sk-container-id-1 div.sk-toggleable__content pre {margin: 0.2em;color: black;border-radius: 0.25em;background-color: #f0f8ff;}#sk-container-id-1 input.sk-toggleable__control:checked~div.sk-toggleable__content {max-height: 200px;max-width: 100%;overflow: auto;}#sk-container-id-1 input.sk-toggleable__control:checked~label.sk-toggleable__label-arrow:before {content: \"▾\";}#sk-container-id-1 div.sk-estimator input.sk-toggleable__control:checked~label.sk-toggleable__label {background-color: #d4ebff;}#sk-container-id-1 div.sk-label input.sk-toggleable__control:checked~label.sk-toggleable__label {background-color: #d4ebff;}#sk-container-id-1 input.sk-hidden--visually {border: 0;clip: rect(1px 1px 1px 1px);clip: rect(1px, 1px, 1px, 1px);height: 1px;margin: -1px;overflow: hidden;padding: 0;position: absolute;width: 1px;}#sk-container-id-1 div.sk-estimator {font-family: monospace;background-color: #f0f8ff;border: 1px dotted black;border-radius: 0.25em;box-sizing: border-box;margin-bottom: 0.5em;}#sk-container-id-1 div.sk-estimator:hover {background-color: #d4ebff;}#sk-container-id-1 div.sk-parallel-item::after {content: \"\";width: 100%;border-bottom: 1px solid gray;flex-grow: 1;}#sk-container-id-1 div.sk-label:hover label.sk-toggleable__label {background-color: #d4ebff;}#sk-container-id-1 div.sk-serial::before {content: \"\";position: absolute;border-left: 1px solid gray;box-sizing: border-box;top: 0;bottom: 0;left: 50%;z-index: 0;}#sk-container-id-1 div.sk-serial {display: flex;flex-direction: column;align-items: center;background-color: white;padding-right: 0.2em;padding-left: 0.2em;position: relative;}#sk-container-id-1 div.sk-item {position: relative;z-index: 1;}#sk-container-id-1 div.sk-parallel {display: flex;align-items: stretch;justify-content: center;background-color: white;position: relative;}#sk-container-id-1 div.sk-item::before, #sk-container-id-1 div.sk-parallel-item::before {content: \"\";position: absolute;border-left: 1px solid gray;box-sizing: border-box;top: 0;bottom: 0;left: 50%;z-index: -1;}#sk-container-id-1 div.sk-parallel-item {display: flex;flex-direction: column;z-index: 1;position: relative;background-color: white;}#sk-container-id-1 div.sk-parallel-item:first-child::after {align-self: flex-end;width: 50%;}#sk-container-id-1 div.sk-parallel-item:last-child::after {align-self: flex-start;width: 50%;}#sk-container-id-1 div.sk-parallel-item:only-child::after {width: 0;}#sk-container-id-1 div.sk-dashed-wrapped {border: 1px dashed gray;margin: 0 0.4em 0.5em 0.4em;box-sizing: border-box;padding-bottom: 0.4em;background-color: white;}#sk-container-id-1 div.sk-label label {font-family: monospace;font-weight: bold;display: inline-block;line-height: 1.2em;}#sk-container-id-1 div.sk-label-container {text-align: center;}#sk-container-id-1 div.sk-container {/* jupyter's `normalize.less` sets `[hidden] { display: none; }` but bootstrap.min.css set `[hidden] { display: none !important; }` so we also need the `!important` here to be able to override the default hidden behavior on the sphinx rendered scikit-learn.org. See: https://github.com/scikit-learn/scikit-learn/issues/21755 */display: inline-block !important;position: relative;}#sk-container-id-1 div.sk-text-repr-fallback {display: none;}</style><div id=\"sk-container-id-1\" class=\"sk-top-container\"><div class=\"sk-text-repr-fallback\"><pre>LinearRegression()</pre><b>In a Jupyter environment, please rerun this cell to show the HTML representation or trust the notebook. <br />On GitHub, the HTML representation is unable to render, please try loading this page with nbviewer.org.</b></div><div class=\"sk-container\" hidden><div class=\"sk-item\"><div class=\"sk-estimator sk-toggleable\"><input class=\"sk-toggleable__control sk-hidden--visually\" id=\"sk-estimator-id-1\" type=\"checkbox\" checked><label for=\"sk-estimator-id-1\" class=\"sk-toggleable__label sk-toggleable__label-arrow\">LinearRegression</label><div class=\"sk-toggleable__content\"><pre>LinearRegression()</pre></div></div></div></div></div>"
      ],
      "text/plain": [
       "LinearRegression()"
      ]
     },
     "execution_count": 60,
     "metadata": {},
     "output_type": "execute_result"
    }
   ],
   "source": [
    "# 학습\n",
    "linear.fit(X_train, y_train)"
   ]
  },
  {
   "cell_type": "code",
   "execution_count": 61,
   "id": "014ebf62",
   "metadata": {},
   "outputs": [],
   "source": [
    "# 예측\n",
    "train_pred = linear.predict(X_train)\n",
    "valid_pred = linear.predict(X_val)"
   ]
  },
  {
   "cell_type": "code",
   "execution_count": 62,
   "id": "343c2ad4",
   "metadata": {},
   "outputs": [],
   "source": [
    "# 결정 계수\n",
    "from sklearn.metrics import r2_score"
   ]
  },
  {
   "cell_type": "code",
   "execution_count": 63,
   "id": "cdc9eaf5",
   "metadata": {},
   "outputs": [
    {
     "name": "stdout",
     "output_type": "stream",
     "text": [
      "0.8574949539223607\n",
      "0.699318580379789\n"
     ]
    }
   ],
   "source": [
    "print(r2_score(y_train, train_pred))\n",
    "print(r2_score(y_val, valid_pred))"
   ]
  },
  {
   "cell_type": "code",
   "execution_count": 64,
   "id": "78baccd5",
   "metadata": {},
   "outputs": [],
   "source": [
    "# X1~X10이 y에게 영향을 끼치는 정도\n",
    "result_dic = {column:coef for column, coef in zip(df1.columns, linear.coef_)}"
   ]
  },
  {
   "cell_type": "code",
   "execution_count": 65,
   "id": "5b625f7a",
   "metadata": {},
   "outputs": [
    {
     "data": {
      "text/plain": [
       "{'금값': 28.700635850988206,\n",
       " 'WTI유가': -38.72076884891845,\n",
       " 'GDP(%)': 6.661778196066723,\n",
       " '생산자물가지수(%)': 10.438326104053619,\n",
       " '소비자물가지수(%)': 47.875989615213115,\n",
       " '한국_시장금리': -3.9437979051792658,\n",
       " '미국_시장금리': 10.607273264492804,\n",
       " '평균시간당임금(%)': 2.029209524491366,\n",
       " '거래량': -31.507236131961093}"
      ]
     },
     "execution_count": 65,
     "metadata": {},
     "output_type": "execute_result"
    }
   ],
   "source": [
    "result_dic"
   ]
  },
  {
   "cell_type": "markdown",
   "id": "8b73ecfb",
   "metadata": {},
   "source": [
    "# XGBoost  \n",
    "모델을 예측할 때 X1~X10이 사용된 빈도/정도"
   ]
  },
  {
   "cell_type": "code",
   "execution_count": 66,
   "id": "689588ed",
   "metadata": {},
   "outputs": [],
   "source": [
    "from xgboost import XGBRegressor\n",
    "from xgboost import plot_importance"
   ]
  },
  {
   "cell_type": "code",
   "execution_count": 67,
   "id": "728c443b",
   "metadata": {},
   "outputs": [],
   "source": [
    "modelXGB = XGBRegressor()"
   ]
  },
  {
   "cell_type": "code",
   "execution_count": 68,
   "id": "ec411932",
   "metadata": {},
   "outputs": [
    {
     "data": {
      "text/html": [
       "<style>#sk-container-id-2 {color: black;background-color: white;}#sk-container-id-2 pre{padding: 0;}#sk-container-id-2 div.sk-toggleable {background-color: white;}#sk-container-id-2 label.sk-toggleable__label {cursor: pointer;display: block;width: 100%;margin-bottom: 0;padding: 0.3em;box-sizing: border-box;text-align: center;}#sk-container-id-2 label.sk-toggleable__label-arrow:before {content: \"▸\";float: left;margin-right: 0.25em;color: #696969;}#sk-container-id-2 label.sk-toggleable__label-arrow:hover:before {color: black;}#sk-container-id-2 div.sk-estimator:hover label.sk-toggleable__label-arrow:before {color: black;}#sk-container-id-2 div.sk-toggleable__content {max-height: 0;max-width: 0;overflow: hidden;text-align: left;background-color: #f0f8ff;}#sk-container-id-2 div.sk-toggleable__content pre {margin: 0.2em;color: black;border-radius: 0.25em;background-color: #f0f8ff;}#sk-container-id-2 input.sk-toggleable__control:checked~div.sk-toggleable__content {max-height: 200px;max-width: 100%;overflow: auto;}#sk-container-id-2 input.sk-toggleable__control:checked~label.sk-toggleable__label-arrow:before {content: \"▾\";}#sk-container-id-2 div.sk-estimator input.sk-toggleable__control:checked~label.sk-toggleable__label {background-color: #d4ebff;}#sk-container-id-2 div.sk-label input.sk-toggleable__control:checked~label.sk-toggleable__label {background-color: #d4ebff;}#sk-container-id-2 input.sk-hidden--visually {border: 0;clip: rect(1px 1px 1px 1px);clip: rect(1px, 1px, 1px, 1px);height: 1px;margin: -1px;overflow: hidden;padding: 0;position: absolute;width: 1px;}#sk-container-id-2 div.sk-estimator {font-family: monospace;background-color: #f0f8ff;border: 1px dotted black;border-radius: 0.25em;box-sizing: border-box;margin-bottom: 0.5em;}#sk-container-id-2 div.sk-estimator:hover {background-color: #d4ebff;}#sk-container-id-2 div.sk-parallel-item::after {content: \"\";width: 100%;border-bottom: 1px solid gray;flex-grow: 1;}#sk-container-id-2 div.sk-label:hover label.sk-toggleable__label {background-color: #d4ebff;}#sk-container-id-2 div.sk-serial::before {content: \"\";position: absolute;border-left: 1px solid gray;box-sizing: border-box;top: 0;bottom: 0;left: 50%;z-index: 0;}#sk-container-id-2 div.sk-serial {display: flex;flex-direction: column;align-items: center;background-color: white;padding-right: 0.2em;padding-left: 0.2em;position: relative;}#sk-container-id-2 div.sk-item {position: relative;z-index: 1;}#sk-container-id-2 div.sk-parallel {display: flex;align-items: stretch;justify-content: center;background-color: white;position: relative;}#sk-container-id-2 div.sk-item::before, #sk-container-id-2 div.sk-parallel-item::before {content: \"\";position: absolute;border-left: 1px solid gray;box-sizing: border-box;top: 0;bottom: 0;left: 50%;z-index: -1;}#sk-container-id-2 div.sk-parallel-item {display: flex;flex-direction: column;z-index: 1;position: relative;background-color: white;}#sk-container-id-2 div.sk-parallel-item:first-child::after {align-self: flex-end;width: 50%;}#sk-container-id-2 div.sk-parallel-item:last-child::after {align-self: flex-start;width: 50%;}#sk-container-id-2 div.sk-parallel-item:only-child::after {width: 0;}#sk-container-id-2 div.sk-dashed-wrapped {border: 1px dashed gray;margin: 0 0.4em 0.5em 0.4em;box-sizing: border-box;padding-bottom: 0.4em;background-color: white;}#sk-container-id-2 div.sk-label label {font-family: monospace;font-weight: bold;display: inline-block;line-height: 1.2em;}#sk-container-id-2 div.sk-label-container {text-align: center;}#sk-container-id-2 div.sk-container {/* jupyter's `normalize.less` sets `[hidden] { display: none; }` but bootstrap.min.css set `[hidden] { display: none !important; }` so we also need the `!important` here to be able to override the default hidden behavior on the sphinx rendered scikit-learn.org. See: https://github.com/scikit-learn/scikit-learn/issues/21755 */display: inline-block !important;position: relative;}#sk-container-id-2 div.sk-text-repr-fallback {display: none;}</style><div id=\"sk-container-id-2\" class=\"sk-top-container\"><div class=\"sk-text-repr-fallback\"><pre>XGBRegressor(base_score=None, booster=None, callbacks=None,\n",
       "             colsample_bylevel=None, colsample_bynode=None,\n",
       "             colsample_bytree=None, early_stopping_rounds=None,\n",
       "             enable_categorical=False, eval_metric=None, feature_types=None,\n",
       "             gamma=None, gpu_id=None, grow_policy=None, importance_type=None,\n",
       "             interaction_constraints=None, learning_rate=None, max_bin=None,\n",
       "             max_cat_threshold=None, max_cat_to_onehot=None,\n",
       "             max_delta_step=None, max_depth=None, max_leaves=None,\n",
       "             min_child_weight=None, missing=nan, monotone_constraints=None,\n",
       "             n_estimators=100, n_jobs=None, num_parallel_tree=None,\n",
       "             predictor=None, random_state=None, ...)</pre><b>In a Jupyter environment, please rerun this cell to show the HTML representation or trust the notebook. <br />On GitHub, the HTML representation is unable to render, please try loading this page with nbviewer.org.</b></div><div class=\"sk-container\" hidden><div class=\"sk-item\"><div class=\"sk-estimator sk-toggleable\"><input class=\"sk-toggleable__control sk-hidden--visually\" id=\"sk-estimator-id-2\" type=\"checkbox\" checked><label for=\"sk-estimator-id-2\" class=\"sk-toggleable__label sk-toggleable__label-arrow\">XGBRegressor</label><div class=\"sk-toggleable__content\"><pre>XGBRegressor(base_score=None, booster=None, callbacks=None,\n",
       "             colsample_bylevel=None, colsample_bynode=None,\n",
       "             colsample_bytree=None, early_stopping_rounds=None,\n",
       "             enable_categorical=False, eval_metric=None, feature_types=None,\n",
       "             gamma=None, gpu_id=None, grow_policy=None, importance_type=None,\n",
       "             interaction_constraints=None, learning_rate=None, max_bin=None,\n",
       "             max_cat_threshold=None, max_cat_to_onehot=None,\n",
       "             max_delta_step=None, max_depth=None, max_leaves=None,\n",
       "             min_child_weight=None, missing=nan, monotone_constraints=None,\n",
       "             n_estimators=100, n_jobs=None, num_parallel_tree=None,\n",
       "             predictor=None, random_state=None, ...)</pre></div></div></div></div></div>"
      ],
      "text/plain": [
       "XGBRegressor(base_score=None, booster=None, callbacks=None,\n",
       "             colsample_bylevel=None, colsample_bynode=None,\n",
       "             colsample_bytree=None, early_stopping_rounds=None,\n",
       "             enable_categorical=False, eval_metric=None, feature_types=None,\n",
       "             gamma=None, gpu_id=None, grow_policy=None, importance_type=None,\n",
       "             interaction_constraints=None, learning_rate=None, max_bin=None,\n",
       "             max_cat_threshold=None, max_cat_to_onehot=None,\n",
       "             max_delta_step=None, max_depth=None, max_leaves=None,\n",
       "             min_child_weight=None, missing=nan, monotone_constraints=None,\n",
       "             n_estimators=100, n_jobs=None, num_parallel_tree=None,\n",
       "             predictor=None, random_state=None, ...)"
      ]
     },
     "execution_count": 68,
     "metadata": {},
     "output_type": "execute_result"
    }
   ],
   "source": [
    "modelXGB.fit(X_train, y_train)"
   ]
  },
  {
   "cell_type": "code",
   "execution_count": 69,
   "id": "e71376b9",
   "metadata": {},
   "outputs": [],
   "source": [
    "# 예측\n",
    "train_pred = modelXGB.predict(X_train)\n",
    "valid_pred = modelXGB.predict(X_val)"
   ]
  },
  {
   "cell_type": "code",
   "execution_count": 70,
   "id": "8e111363",
   "metadata": {},
   "outputs": [
    {
     "name": "stdout",
     "output_type": "stream",
     "text": [
      "0.9999999998913395\n",
      "0.9554747772271474\n"
     ]
    }
   ],
   "source": [
    "print(r2_score(y_train, train_pred))\n",
    "print(r2_score(y_val, valid_pred))\n",
    "\n",
    "# 과적합 ㅠ"
   ]
  },
  {
   "cell_type": "code",
   "execution_count": 71,
   "id": "eb128f39",
   "metadata": {},
   "outputs": [
    {
     "data": {
      "text/plain": [
       "<Axes: title={'center': 'Feature importance'}, xlabel='F score', ylabel='Features'>"
      ]
     },
     "execution_count": 71,
     "metadata": {},
     "output_type": "execute_result"
    },
    {
     "data": {
      "image/png": "[encoded data removed]",
      "text/plain": [
       "<Figure size 1000x1200 with 1 Axes>"
      ]
     },
     "metadata": {},
     "output_type": "display_data"
    }
   ],
   "source": [
    "# 모델을 예측할 때 X1~X10이 사용된 빈도/정도\n",
    "%matplotlib inline\n",
    "\n",
    "fig, ax = plt.subplots(figsize=(10, 12))\n",
    "plot_importance(modelXGB, ax=ax)"
   ]
  },
  {
   "cell_type": "markdown",
   "id": "8574ffd9",
   "metadata": {},
   "source": [
    "# SHAP value"
   ]
  },
  {
   "cell_type": "code",
   "execution_count": 72,
   "id": "e9eac3cd",
   "metadata": {},
   "outputs": [],
   "source": [
    "import shap\n",
    "from shap import TreeExplainer, Explanation\n",
    "from shap.plots import waterfall"
   ]
  },
  {
   "cell_type": "code",
   "execution_count": 73,
   "id": "0baec4cb",
   "metadata": {},
   "outputs": [],
   "source": [
    "explainer1 = shap.Explainer(modelXGB, X_val)\n",
    "shap_values1 = explainer1(X_val)"
   ]
  },
  {
   "cell_type": "code",
   "execution_count": 74,
   "id": "9471e056",
   "metadata": {},
   "outputs": [
    {
     "name": "stderr",
     "output_type": "stream",
     "text": [
      "Glyph 8722 (\\N{MINUS SIGN}) missing from current font.\n",
      "Glyph 8722 (\\N{MINUS SIGN}) missing from current font.\n"
     ]
    },
    {
     "data": {
      "image/png": "[encoded data removed]",
      "text/plain": [
       "<Figure size 800x600 with 3 Axes>"
      ]
     },
     "metadata": {},
     "output_type": "display_data"
    }
   ],
   "source": [
    "shap.plots.waterfall(shap_values1[1])"
   ]
  }
 ],
 "metadata": {
  "kernelspec": {
   "display_name": "Python 3 (ipykernel)",
   "language": "python",
   "name": "python3"
  },
  "language_info": {
   "codemirror_mode": {
    "name": "ipython",
    "version": 3
   },
   "file_extension": ".py",
   "mimetype": "text/x-python",
   "name": "python",
   "nbconvert_exporter": "python",
   "pygments_lexer": "ipython3",
   "version": "3.10.9"
  }
 },
 "nbformat": 4,
 "nbformat_minor": 5
}

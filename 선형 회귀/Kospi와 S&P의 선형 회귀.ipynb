{
 "cells": [
  {
   "cell_type": "code",
   "execution_count": 1,
   "id": "d37fe94b",
   "metadata": {},
   "outputs": [],
   "source": [
    "import pandas as pd\n",
    "import numpy as np\n",
    "import matplotlib as mlp\n",
    "import matplotlib.pyplot as plt\n",
    "import seaborn as sns\n",
    "from pylab import rcParams\n",
    "\n",
    "rcParams['figure.figsize'] = 15,10"
   ]
  },
  {
   "cell_type": "code",
   "execution_count": 2,
   "id": "a3ae1a03",
   "metadata": {},
   "outputs": [],
   "source": [
    "kospi = pd.read_csv('./final.csv')\n",
    "snp = pd.read_csv('./SPY_2011_22.csv')"
   ]
  },
  {
   "cell_type": "code",
   "execution_count": 3,
   "id": "354eea2e",
   "metadata": {},
   "outputs": [],
   "source": [
    "kospi['Date'] = pd.to_datetime(kospi['Date'])\n",
    "snp['Date'] = pd.to_datetime(snp['Date'])"
   ]
  },
  {
   "cell_type": "code",
   "execution_count": 4,
   "id": "675fa968",
   "metadata": {},
   "outputs": [],
   "source": [
    "# kospi와 snp의 겹치는 날짜만 가져와 데이터 프레임으로 만들기\n",
    "df = pd.merge(kospi, snp, how='inner', on='Date').rename(columns={'Close_x' : 'KOSPI200', 'Close_y' : 'SPY'})"
   ]
  },
  {
   "cell_type": "markdown",
   "id": "01724240",
   "metadata": {},
   "source": [
    "## 상관 관계 분석 - 종가"
   ]
  },
  {
   "cell_type": "code",
   "execution_count": 5,
   "id": "15348181",
   "metadata": {},
   "outputs": [],
   "source": [
    "from sklearn.preprocessing import MinMaxScaler\n",
    "from sklearn.model_selection import train_test_split\n",
    "from sklearn.linear_model import LinearRegression"
   ]
  },
  {
   "cell_type": "code",
   "execution_count": 6,
   "id": "75ee1078",
   "metadata": {},
   "outputs": [],
   "source": [
    "X = df[['SPY']]\n",
    "y = df['KOSPI200']"
   ]
  },
  {
   "cell_type": "code",
   "execution_count": 7,
   "id": "af435b64",
   "metadata": {},
   "outputs": [],
   "source": [
    "X_train, X_test, y_train, y_test = train_test_split(X, y, random_state=42, test_size=0.2)"
   ]
  },
  {
   "cell_type": "code",
   "execution_count": 8,
   "id": "065aa1c7",
   "metadata": {},
   "outputs": [],
   "source": [
    "scaler = MinMaxScaler()  # MinMaxScaler: 0~1 사이의 값으로 변환 -> 왜 해야 하는지? 종가 범위를 좁히기 위해서\n",
    "scaler.fit(X_train)\n",
    "X_train = scaler.transform(X_train)\n",
    "X_test = scaler.transform(X_test)"
   ]
  },
  {
   "cell_type": "code",
   "execution_count": 9,
   "id": "d5902872",
   "metadata": {},
   "outputs": [
    {
     "data": {
      "text/plain": [
       "LinearRegression()"
      ]
     },
     "execution_count": 9,
     "metadata": {},
     "output_type": "execute_result"
    }
   ],
   "source": [
    "model = LinearRegression()\n",
    "\n",
    "model.fit(X_train, y_train)"
   ]
  },
  {
   "cell_type": "code",
   "execution_count": 10,
   "id": "c2cf17f4",
   "metadata": {},
   "outputs": [],
   "source": [
    "train_predict = model.predict(X_train)\n",
    "test_predict = model.predict(X_test)"
   ]
  },
  {
   "cell_type": "code",
   "execution_count": 11,
   "id": "cea87387",
   "metadata": {},
   "outputs": [],
   "source": [
    "from sklearn.metrics import r2_score"
   ]
  },
  {
   "cell_type": "code",
   "execution_count": 12,
   "id": "98ed2a7d",
   "metadata": {},
   "outputs": [
    {
     "name": "stdout",
     "output_type": "stream",
     "text": [
      "0.6674172223957985\n"
     ]
    }
   ],
   "source": [
    "print(r2_score(y_train, train_predict))"
   ]
  },
  {
   "cell_type": "code",
   "execution_count": 13,
   "id": "e032c978",
   "metadata": {},
   "outputs": [
    {
     "name": "stdout",
     "output_type": "stream",
     "text": [
      "0.7066590764414845\n"
     ]
    }
   ],
   "source": [
    "print(r2_score(y_test, test_predict))"
   ]
  },
  {
   "cell_type": "markdown",
   "id": "c82c4776",
   "metadata": {},
   "source": [
    "S&P와 Kospi 종가 간의 선형 회귀 분석 결과, 0.66~0.7 사이의 결정 계수가 나타났다.  \n",
    "따라서, 일정 수준 이상의 상관성을 띄는 것으로 판단된다.  \n",
    "1에 가까울 수록 상관성이 높고, 0에 가까울 수록 상관성이 낮다고 본다.  \n",
    "  \n",
    "  \n",
    "**r2_score를 사용한 목적**\n",
    "- 예측할 때 LSTM의 r2_score은 만들어진 모델이 주가를 얼마나 잘 예측했느냐?를 알기 위해\n",
    "- 선형 회귀의 r2_score은 Kospi와 S&P 종가 간의 상관성이 어느 정도냐?를 알기 위해"
   ]
  },
  {
   "cell_type": "markdown",
   "id": "43f9d953",
   "metadata": {},
   "source": [
    "## 상관 관계 분석 - 수익률(변동률)"
   ]
  },
  {
   "cell_type": "code",
   "execution_count": 14,
   "id": "ba77480b",
   "metadata": {},
   "outputs": [],
   "source": [
    "X_pct = df[['SPY']].pct_change() * 100\n",
    "y_pct = df['KOSPI200'].pct_change() * 100"
   ]
  },
  {
   "cell_type": "code",
   "execution_count": 15,
   "id": "cd631ddc",
   "metadata": {},
   "outputs": [],
   "source": [
    "# 수익률을 구한 것이기에 비교할 날짜가 없는 제일 첫 날은 NaN 값이기에 제거\n",
    "X_pct = X_pct.iloc[1:, :]\n",
    "y_pct = y_pct.iloc[1:]"
   ]
  },
  {
   "cell_type": "code",
   "execution_count": 16,
   "id": "15a697fa",
   "metadata": {},
   "outputs": [
    {
     "data": {
      "text/html": [
       "<div>\n",
       "<style scoped>\n",
       "    .dataframe tbody tr th:only-of-type {\n",
       "        vertical-align: middle;\n",
       "    }\n",
       "\n",
       "    .dataframe tbody tr th {\n",
       "        vertical-align: top;\n",
       "    }\n",
       "\n",
       "    .dataframe thead th {\n",
       "        text-align: right;\n",
       "    }\n",
       "</style>\n",
       "<table border=\"1\" class=\"dataframe\">\n",
       "  <thead>\n",
       "    <tr style=\"text-align: right;\">\n",
       "      <th></th>\n",
       "      <th>SPY</th>\n",
       "    </tr>\n",
       "  </thead>\n",
       "  <tbody>\n",
       "    <tr>\n",
       "      <th>1</th>\n",
       "      <td>-0.055096</td>\n",
       "    </tr>\n",
       "    <tr>\n",
       "      <th>2</th>\n",
       "      <td>0.519764</td>\n",
       "    </tr>\n",
       "    <tr>\n",
       "      <th>3</th>\n",
       "      <td>-0.195863</td>\n",
       "    </tr>\n",
       "    <tr>\n",
       "      <th>4</th>\n",
       "      <td>-0.196248</td>\n",
       "    </tr>\n",
       "    <tr>\n",
       "      <th>5</th>\n",
       "      <td>-0.125842</td>\n",
       "    </tr>\n",
       "    <tr>\n",
       "      <th>...</th>\n",
       "      <td>...</td>\n",
       "    </tr>\n",
       "    <tr>\n",
       "      <th>2860</th>\n",
       "      <td>-1.426614</td>\n",
       "    </tr>\n",
       "    <tr>\n",
       "      <th>2861</th>\n",
       "      <td>0.575227</td>\n",
       "    </tr>\n",
       "    <tr>\n",
       "      <th>2862</th>\n",
       "      <td>-0.394351</td>\n",
       "    </tr>\n",
       "    <tr>\n",
       "      <th>2863</th>\n",
       "      <td>-1.242787</td>\n",
       "    </tr>\n",
       "    <tr>\n",
       "      <th>2864</th>\n",
       "      <td>1.800031</td>\n",
       "    </tr>\n",
       "  </tbody>\n",
       "</table>\n",
       "<p>2864 rows × 1 columns</p>\n",
       "</div>"
      ],
      "text/plain": [
       "           SPY\n",
       "1    -0.055096\n",
       "2     0.519764\n",
       "3    -0.195863\n",
       "4    -0.196248\n",
       "5    -0.125842\n",
       "...        ...\n",
       "2860 -1.426614\n",
       "2861  0.575227\n",
       "2862 -0.394351\n",
       "2863 -1.242787\n",
       "2864  1.800031\n",
       "\n",
       "[2864 rows x 1 columns]"
      ]
     },
     "execution_count": 16,
     "metadata": {},
     "output_type": "execute_result"
    }
   ],
   "source": [
    "X_pct"
   ]
  },
  {
   "cell_type": "code",
   "execution_count": 17,
   "id": "88956e87",
   "metadata": {},
   "outputs": [
    {
     "data": {
      "text/plain": [
       "1       0.719477\n",
       "2      -0.155921\n",
       "3      -0.228800\n",
       "4       0.323966\n",
       "5      -0.587787\n",
       "          ...   \n",
       "2860    1.401576\n",
       "2861   -1.759464\n",
       "2862    0.711756\n",
       "2863   -2.343699\n",
       "2864   -2.016224\n",
       "Name: KOSPI200, Length: 2864, dtype: float64"
      ]
     },
     "execution_count": 17,
     "metadata": {},
     "output_type": "execute_result"
    }
   ],
   "source": [
    "y_pct"
   ]
  },
  {
   "cell_type": "code",
   "execution_count": 18,
   "id": "b2cc539a",
   "metadata": {},
   "outputs": [],
   "source": [
    "X_pct_train, X_pct_test, y_pct_train, y_pct_test = train_test_split(X_pct, y_pct, random_state=42, test_size=0.2)"
   ]
  },
  {
   "cell_type": "markdown",
   "id": "68f2a010",
   "metadata": {},
   "source": [
    "이미 수익률의 범위가 충분히 좁은 상태이기에 스케일링은 진행하지 않기로!"
   ]
  },
  {
   "cell_type": "code",
   "execution_count": 19,
   "id": "7c8cee4e",
   "metadata": {},
   "outputs": [
    {
     "data": {
      "text/plain": [
       "LinearRegression()"
      ]
     },
     "execution_count": 19,
     "metadata": {},
     "output_type": "execute_result"
    }
   ],
   "source": [
    "model_pct = LinearRegression()\n",
    "\n",
    "model_pct.fit(X_pct_train, y_pct_train)"
   ]
  },
  {
   "cell_type": "code",
   "execution_count": 20,
   "id": "96a169d8",
   "metadata": {},
   "outputs": [],
   "source": [
    "pct_train_predict = model_pct.predict(X_pct_train)\n",
    "pct_test_predict = model_pct.predict(X_pct_test)"
   ]
  },
  {
   "cell_type": "code",
   "execution_count": 21,
   "id": "11358d5a",
   "metadata": {},
   "outputs": [
    {
     "name": "stdout",
     "output_type": "stream",
     "text": [
      "0.050126736296977836\n"
     ]
    }
   ],
   "source": [
    "print(r2_score(y_pct_train, pct_train_predict))"
   ]
  },
  {
   "cell_type": "code",
   "execution_count": 22,
   "id": "0ae47e35",
   "metadata": {},
   "outputs": [
    {
     "name": "stdout",
     "output_type": "stream",
     "text": [
      "0.09802413114095865\n"
     ]
    }
   ],
   "source": [
    "print(r2_score(y_pct_test, pct_test_predict))"
   ]
  },
  {
   "cell_type": "markdown",
   "id": "e2788924",
   "metadata": {},
   "source": [
    "전체 기간의 수익률(변동률) 그래프를 확인해보면 Kospi는 변동성이 비교적 컸고, S&P는 비교적 꾸준한 상승세를 보였다.  \n",
    "때문에 두 증시 변동률에 대한 상관 관계 분석을 진행하였을 때 결정 계수가 낮은 것으로 판단된다."
   ]
  },
  {
   "cell_type": "markdown",
   "id": "2c45e2dd",
   "metadata": {},
   "source": [
    "## 결론\n",
    "Kospi와 S&P의 종가 간의 상관 관계와 Kospi와 S&P의 수익률(변동률) 간의 상관 관계 분석을 확인 해보았다.  \n",
    "일반적으로 Kospi가 S&P의 영향을 많이 받는다고 알려져 있는데 실제 분석 결과, 종가 간에는 어느 정도 상관성을 보였으나 변동률 간에는 상관성이 거의 없는 것으로 확인되었다.  \n",
    "따라서 S&P 종가 외에 원-달러 환율, 금값, 한국 금리가 Kospi에게 얼마나 많은 영향을 미치는 지 실증하기로 한다. = 다중 선형 회귀 진행하겠다.  \n",
    "  \n",
    "  \n",
    "**다중 선형 회귀**  \n",
    "y: Kospi 200  \n",
    "X: 환율, 한국 금리, 금값, GDP, S&P 500 등등 (제거 또는 추가 가능)"
   ]
  }
 ],
 "metadata": {
  "kernelspec": {
   "display_name": "Python 3 (ipykernel)",
   "language": "python",
   "name": "python3"
  },
  "language_info": {
   "codemirror_mode": {
    "name": "ipython",
    "version": 3
   },
   "file_extension": ".py",
   "mimetype": "text/x-python",
   "name": "python",
   "nbconvert_exporter": "python",
   "pygments_lexer": "ipython3",
   "version": "3.9.7"
  }
 },
 "nbformat": 4,
 "nbformat_minor": 5
}
